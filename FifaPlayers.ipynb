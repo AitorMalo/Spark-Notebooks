{
 "cells": [
  {
   "cell_type": "code",
   "execution_count": 82,
   "id": "a241e118-5146-48a0-9a89-1edca564a46b",
   "metadata": {},
   "outputs": [],
   "source": [
    "from pyspark.sql import SparkSession\n",
    "from pyspark.sql.functions import *"
   ]
  },
  {
   "cell_type": "code",
   "execution_count": 83,
   "id": "e665e842-0009-4af8-ac6c-76cfa0187139",
   "metadata": {},
   "outputs": [],
   "source": [
    "spark = (SparkSession.builder.appName(\"FIFA Players\").getOrCreate())"
   ]
  },
  {
   "cell_type": "code",
   "execution_count": 4,
   "id": "b675e032-e17c-4d87-bb01-1268181b72a4",
   "metadata": {},
   "outputs": [],
   "source": [
    "fifa_df = (spark.read.format(\"csv\").option(\"header\",\"true\").option(\"inferSchema\",\"true\").load(\"players_22.csv\"))"
   ]
  },
  {
   "cell_type": "code",
   "execution_count": 67,
   "id": "35e40867-78e7-40ff-aa48-ce38951946bd",
   "metadata": {},
   "outputs": [
    {
     "name": "stdout",
     "output_type": "stream",
     "text": [
      "+-------+-----+\n",
      "|overall|Total|\n",
      "+-------+-----+\n",
      "|     93|    1|\n",
      "|     92|    1|\n",
      "|     91|    5|\n",
      "|     90|    4|\n",
      "|     89|   11|\n",
      "|     88|    8|\n",
      "|     87|   17|\n",
      "|     86|   22|\n",
      "|     85|   28|\n",
      "|     84|   43|\n",
      "|     83|   59|\n",
      "|     82|   85|\n",
      "|     81|  104|\n",
      "|     80|  121|\n",
      "+-------+-----+\n",
      "\n"
     ]
    }
   ],
   "source": [
    "count_fifa_df = (fifa_df.select(\"short_name\",\"overall\")\\\n",
    "                 .where(fifa_df.overall>=80)\\\n",
    "                 .groupBy(fifa_df.overall)\\\n",
    "                 .agg(count(\"short_name\").alias(\"Total\"))\\\n",
    "                 .orderBy(\"overall\",ascending=False))\n",
    "\n",
    "count_fifa_df.show()"
   ]
  },
  {
   "cell_type": "code",
   "execution_count": 92,
   "id": "eb31ba00-ebc6-4f96-b647-f0a390158422",
   "metadata": {},
   "outputs": [
    {
     "name": "stdout",
     "output_type": "stream",
     "text": [
      "+---------------+----------------+-------+\n",
      "|     short_name|nationality_name|overall|\n",
      "+---------------+----------------+-------+\n",
      "|       L. Messi|       Argentina|     93|\n",
      "|      Neymar Jr|          Brazil|     91|\n",
      "|       Casemiro|          Brazil|     89|\n",
      "|        Ederson|          Brazil|     89|\n",
      "|        Alisson|          Brazil|     89|\n",
      "|      S. Agüero|       Argentina|     87|\n",
      "|    Á. Di María|       Argentina|     87|\n",
      "|     Marquinhos|          Brazil|     87|\n",
      "|      P. Dybala|       Argentina|     87|\n",
      "|        Fabinho|          Brazil|     86|\n",
      "|       A. Gómez|       Argentina|     85|\n",
      "|   Thiago Silva|          Brazil|     85|\n",
      "|Roberto Firmino|          Brazil|     85|\n",
      "|    L. Martínez|       Argentina|     85|\n",
      "|       Fernando|          Brazil|     84|\n",
      "|    E. Martínez|       Argentina|     84|\n",
      "|         Felipe|          Brazil|     84|\n",
      "|       M. Acuña|       Argentina|     84|\n",
      "|    Fernandinho|          Brazil|     83|\n",
      "|       Paulinho|          Brazil|     83|\n",
      "+---------------+----------------+-------+\n",
      "only showing top 20 rows\n",
      "\n"
     ]
    }
   ],
   "source": [
    "fifa_df_query = (fifa_df.select(\"short_name\",\"nationality_name\",\"overall\")\\\n",
    "                    .where((fifa_df.nationality_name.isin(\"Brazil\",\"Argentina\"))))\n",
    "\n",
    "fifa_df_query.show()"
   ]
  },
  {
   "cell_type": "code",
   "execution_count": 66,
   "id": "972657ca-dae9-4d08-8fd5-52f2db4faf17",
   "metadata": {},
   "outputs": [
    {
     "name": "stdout",
     "output_type": "stream",
     "text": [
      "+-----------------+--------------+--------------+\n",
      "|   avg(value_eur)|min(value_eur)|max(value_eur)|\n",
      "+-----------------+--------------+--------------+\n",
      "|2850451.813201148|        9000.0|        1.94E8|\n",
      "+-----------------+--------------+--------------+\n",
      "\n"
     ]
    }
   ],
   "source": [
    "fifa_max = (fifa_df.select(mean(\"value_eur\"),min(\"value_eur\"),max(\"value_eur\"))).show()"
   ]
  },
  {
   "cell_type": "code",
   "execution_count": 90,
   "id": "7a063b55-0f5e-4de9-94e9-77c510bbb9c0",
   "metadata": {},
   "outputs": [
    {
     "name": "stdout",
     "output_type": "stream",
     "text": [
      "+-----------------+-------+\n",
      "|       short_name|overall|\n",
      "+-----------------+-------+\n",
      "|         L. Messi|     93|\n",
      "|   R. Lewandowski|     92|\n",
      "|Cristiano Ronaldo|     91|\n",
      "|        Neymar Jr|     91|\n",
      "|     K. De Bruyne|     91|\n",
      "|         J. Oblak|     91|\n",
      "|        K. Mbappé|     91|\n",
      "|         M. Neuer|     90|\n",
      "|    M. ter Stegen|     90|\n",
      "|          H. Kane|     90|\n",
      "|         N. Kanté|     90|\n",
      "|       K. Benzema|     89|\n",
      "|      T. Courtois|     89|\n",
      "|           H. Son|     89|\n",
      "|         Casemiro|     89|\n",
      "|      V. van Dijk|     89|\n",
      "|          S. Mané|     89|\n",
      "|         M. Salah|     89|\n",
      "|          Ederson|     89|\n",
      "|       J. Kimmich|     89|\n",
      "+-----------------+-------+\n",
      "only showing top 20 rows\n",
      "\n"
     ]
    }
   ],
   "source": [
    "fifa_df.createOrReplaceTempView(\"overall\")\n",
    "df2 = fifa_df.filter(fifa_df.overall > 80)\n",
    "df2.createOrReplaceTempView(\"overall\")\n",
    "df3 = spark.sql(\"select short_name,overall from overall\").show()\n",
    "\n",
    "#spark.catalog.dropTempView(\"overall\")"
   ]
  }
 ],
 "metadata": {
  "kernelspec": {
   "display_name": "Python 3 (ipykernel)",
   "language": "python",
   "name": "python3"
  },
  "language_info": {
   "codemirror_mode": {
    "name": "ipython",
    "version": 3
   },
   "file_extension": ".py",
   "mimetype": "text/x-python",
   "name": "python",
   "nbconvert_exporter": "python",
   "pygments_lexer": "ipython3",
   "version": "3.9.10"
  }
 },
 "nbformat": 4,
 "nbformat_minor": 5
}
