{
 "cells": [
  {
   "cell_type": "code",
   "execution_count": null,
   "id": "d5020c92-2dea-403c-ade4-493c0651f482",
   "metadata": {},
   "outputs": [],
   "source": [
    "%scala\n",
    "import org.apache.spark.sql.SparkSession"
   ]
  },
  {
   "cell_type": "code",
   "execution_count": null,
   "id": "cd5485ec-8ee2-4e91-aa49-13fd9f66a0d5",
   "metadata": {},
   "outputs": [],
   "source": [
    "val spark = SparkSession\n",
    " .builder\n",
    " .appName(\"Departure Delays\")\n",
    " .getOrCreate()"
   ]
  },
  {
   "cell_type": "markdown",
   "id": "62372486-08ef-4e78-903e-3b2c61c951f5",
   "metadata": {},
   "source": [
    "CARGAR ARCHIVO Y CONVERTIRLO EN DATAFRAME"
   ]
  },
  {
   "cell_type": "code",
   "execution_count": null,
   "id": "eff02c29-708c-4153-b3d6-645c5cd90412",
   "metadata": {},
   "outputs": [],
   "source": [
    "val csvFile= \"departuredelays.csv\"\n",
    "\n",
    "val dframe = spark.read.format(\"csv\")\n",
    " .option(\"inferSchema\", \"true\")\n",
    " .option(\"header\", \"true\")\n",
    " .load(csvFile)"
   ]
  },
  {
   "cell_type": "markdown",
   "id": "a38e9a09-a6b3-4c8b-ab43-6ffd529b2069",
   "metadata": {},
   "source": [
    "CREAR VISTA TEMPORAL"
   ]
  },
  {
   "cell_type": "code",
   "execution_count": null,
   "id": "5d1cce14-b754-47bc-97a2-342053407138",
   "metadata": {},
   "outputs": [],
   "source": [
    " dframe.createOrReplaceTempView(\"us_delay_flights_tbl\")"
   ]
  },
  {
   "cell_type": "markdown",
   "id": "854849ab-0d37-42e7-a00e-453fc79c310f",
   "metadata": {},
   "source": [
    "CONSULTAS CON SPARK SQL"
   ]
  },
  {
   "cell_type": "code",
   "execution_count": null,
   "id": "2c0e45ad-e12f-432e-bd3f-d853799d4f05",
   "metadata": {},
   "outputs": [],
   "source": [
    "spark.sql(\"\"\"SELECT distance, origin, destination \n",
    "FROM us_delay_flights_tbl WHERE distance > 1000 \n",
    "ORDER BY distance DESC\"\"\").show(10)"
   ]
  },
  {
   "cell_type": "code",
   "execution_count": null,
   "id": "9bc631ae-8684-4064-849b-37cad06deb97",
   "metadata": {
    "tags": []
   },
   "outputs": [],
   "source": [
    "spark.sql(\"\"\"SELECT date, delay, origin, destination \n",
    "FROM us_delay_flights_tbl \n",
    "WHERE delay > 120 AND ORIGIN = 'SFO' AND DESTINATION = 'ORD' \n",
    "ORDER by delay DESC\"\"\").show(10)"
   ]
  },
  {
   "cell_type": "markdown",
   "id": "38176af9-7242-4103-a18c-dc900c4d5d99",
   "metadata": {},
   "source": [
    "HACER EN DATABRICKS"
   ]
  },
  {
   "cell_type": "code",
   "execution_count": null,
   "id": "fe3a5129-01cb-42bc-8c19-99895c37a455",
   "metadata": {},
   "outputs": [],
   "source": [
    "spark.sql(\"\"\"CREATE TABLE us_delay_flights_tbl(date STRING, delay INT, \n",
    " distance INT, origin STRING, destination STRING) \n",
    " USING csv OPTIONS (PATH \n",
    " 'departuredelays.csv')\"\"\")"
   ]
  },
  {
   "cell_type": "code",
   "execution_count": null,
   "id": "faaabf33-c605-4276-aee8-6459a27481b0",
   "metadata": {},
   "outputs": [],
   "source": [
    "spark.sql(\"\"\"SELECT delay, origin, destination,\n",
    " CASE\n",
    " WHEN delay > 360 THEN 'Very Long Delays'\n",
    " WHEN delay > 120 AND delay < 360 THEN 'Long Delays'\n",
    " WHEN delay > 60 AND delay < 120 THEN 'Short Delays'\n",
    " WHEN delay > 0 and delay < 60 THEN 'Tolerable Delays'\n",
    " WHEN delay = 0 THEN 'No Delays'\n",
    " ELSE 'Early'\n",
    " END AS Flight_Delays\n",
    " FROM us_delay_flights_tbl\n",
    " ORDER BY origin, delay DESC\"\"\").show(10)"
   ]
  },
  {
   "cell_type": "code",
   "execution_count": null,
   "id": "64524a39-5a4e-4c18-a99e-10a65ef6fae1",
   "metadata": {},
   "outputs": [],
   "source": [
    "spark.sql(\"SELECT * FROM us_delay_flights_tbl\").show(10)"
   ]
  },
  {
   "cell_type": "code",
   "execution_count": null,
   "id": "810ffbf5-9f0c-43b4-84d1-22c173f222ab",
   "metadata": {},
   "outputs": [],
   "source": [
    "spark.sql(\"CREATE DATABASE learn_spark_db\")\n",
    "spark.sql(\"USE learn_spark_db\")"
   ]
  },
  {
   "cell_type": "markdown",
   "id": "db111a32-5661-43d0-8741-76033cc7c690",
   "metadata": {},
   "source": [
    "CREAR DATAFRAME CON LOS ARCHIVOS DE DIFERENTES FORMATOS"
   ]
  },
  {
   "cell_type": "code",
   "execution_count": null,
   "id": "8475cd90-a6e1-480f-9c55-a52d4a96a453",
   "metadata": {},
   "outputs": [],
   "source": [
    "val file = \"\"\"firecalls_parquet/part-00000-5c94c46a-88ec-4efd-b88c-f6f2d3540b13-c000.snappy.parquet\"\"\"\n",
    "\n",
    "val df_parquet = spark.read.format(\"parquet\").load(file)\n",
    "\n",
    "val df_csv = spark.read.format(\"csv\")\n",
    " .option(\"inferSchema\", \"true\")\n",
    " .option(\"header\", \"true\")\n",
    " .option(\"mode\", \"PERMISSIVE\")\n",
    " .load(\"work/firecalls_csv/part-00000-a31139a7-b7d7-4c79-89d1-ecd5f6d5adbe-c000.csv*\")\n",
    "\n",
    "val df4_json = spark.read.format(\"json\")\n",
    " .load(\"work/firecalls_json/part-00000-59c45c44-7990-4e9f-8ed2-78dc0f165b61-c000.json*\")"
   ]
  },
  {
   "cell_type": "code",
   "execution_count": null,
   "id": "09e61f6d-6a0c-43dc-b6d9-11a2658b416d",
   "metadata": {},
   "outputs": [],
   "source": [
    "val location = dframe.write.format(\"json\").mode(\"overwrite\").save(\"work/Prueba Dataframes\")"
   ]
  }
 ],
 "metadata": {
  "kernelspec": {
   "display_name": "spylon-kernel",
   "language": "scala",
   "name": "spylon-kernel"
  },
  "language_info": {
   "codemirror_mode": "text/x-scala",
   "file_extension": ".scala",
   "help_links": [
    {
     "text": "MetaKernel Magics",
     "url": "https://metakernel.readthedocs.io/en/latest/source/README.html"
    }
   ],
   "mimetype": "text/x-scala",
   "name": "scala",
   "pygments_lexer": "scala",
   "version": "0.4.1"
  }
 },
 "nbformat": 4,
 "nbformat_minor": 5
}
