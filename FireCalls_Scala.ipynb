{
 "cells": [
  {
   "cell_type": "code",
   "execution_count": 14,
   "id": "d77aaac2-773c-48bc-a8b7-1a0f9715eb02",
   "metadata": {},
   "outputs": [
    {
     "data": {
      "text/plain": [
       "import org.apache.spark.sql.SparkSession\n",
       "import org.apache.spark.sql.functions._\n"
      ]
     },
     "execution_count": 14,
     "metadata": {},
     "output_type": "execute_result"
    }
   ],
   "source": [
    "%scala\n",
    "import org.apache.spark.sql.SparkSession\n",
    "import org.apache.spark.sql.functions._"
   ]
  },
  {
   "cell_type": "code",
   "execution_count": 15,
   "id": "b0b07cd8-f3d4-47d5-9d6c-6a756286c73d",
   "metadata": {},
   "outputs": [
    {
     "data": {
      "text/plain": [
       "fire_calls_sf: org.apache.spark.sql.DataFrame = [CallNumber: int, UnitID: string ... 26 more fields]\n"
      ]
     },
     "execution_count": 15,
     "metadata": {},
     "output_type": "execute_result"
    }
   ],
   "source": [
    "val fire_calls_sf = spark.read.format(\"csv\")\n",
    " .option(\"header\", \"true\")\n",
    " .option(\"inferSchema\", \"true\")\n",
    " .load(\"sf-fire-calls.csv\")"
   ]
  },
  {
   "cell_type": "markdown",
   "id": "913d3d2c-8bdf-4614-b4e8-e7b2a287cef9",
   "metadata": {},
   "source": [
    "EJERCICIO 1"
   ]
  },
  {
   "cell_type": "code",
   "execution_count": null,
   "id": "e9ebfa20-a0cb-4ac5-8447-b31cd2aea40e",
   "metadata": {},
   "outputs": [],
   "source": [
    "fire_calls_sf.createOrReplaceTempView(\"CallType\")\n",
    "val types_df = spark.sql(\"SELECT DISTINCT CallType FROM CallType\")\n",
    "print(types_df.count() + \" Incidentes diferentes\")"
   ]
  },
  {
   "cell_type": "markdown",
   "id": "f9fec2cc-ce5f-4bf6-b53b-162f9b1ea3e3",
   "metadata": {},
   "source": [
    "EJERCICIO 2"
   ]
  },
  {
   "cell_type": "code",
   "execution_count": 47,
   "id": "3886fc07-4556-4e28-b213-774f3b2d343a",
   "metadata": {},
   "outputs": [
    {
     "name": "stdout",
     "output_type": "stream",
     "text": [
      "+----------+-----+\n",
      "|  CallDate|Total|\n",
      "+----------+-----+\n",
      "|01/01/2018|   58|\n",
      "+----------+-----+\n",
      "only showing top 1 row\n",
      "\n"
     ]
    },
    {
     "data": {
      "text/plain": [
       "highest_number_calls_2018: org.apache.spark.sql.Dataset[org.apache.spark.sql.Row] = [CallDate: string, Total: bigint]\n"
      ]
     },
     "execution_count": 47,
     "metadata": {},
     "output_type": "execute_result"
    }
   ],
   "source": [
    "fire_calls_sf.createOrReplaceTempView(\"CallDate\")\n",
    "\n",
    "var highest_number_calls_2018 = fire_calls_sf.filter(col(\"CallDate\").like(\"%2018\"))\n",
    ".groupBy(\"CallDate\")\n",
    ".agg(count(\"CallDate\").alias(\"Total\"))\n",
    ".orderBy(desc(\"Total\"))\n",
    "\n",
    "highest_number_calls_2018.show(1)"
   ]
  },
  {
   "cell_type": "markdown",
   "id": "375a2abf-c8d4-421e-9e0b-f609cebd73c5",
   "metadata": {},
   "source": [
    "EJERCICIO 3"
   ]
  },
  {
   "cell_type": "code",
   "execution_count": 58,
   "id": "01bf43c7-7639-4916-a862-4a73296f154d",
   "metadata": {},
   "outputs": [
    {
     "ename": "<console>",
     "evalue": "34: error: overloaded method value filter with alternatives:",
     "output_type": "error",
     "traceback": [
      "<console>:34: error: overloaded method value filter with alternatives:",
      "  (func: org.apache.spark.api.java.function.FilterFunction[org.apache.spark.sql.Row])org.apache.spark.sql.Dataset[org.apache.spark.sql.Row] <and>",
      "  (func: org.apache.spark.sql.Row => Boolean)org.apache.spark.sql.Dataset[org.apache.spark.sql.Row] <and>",
      "  (conditionExpr: String)org.apache.spark.sql.Dataset[org.apache.spark.sql.Row] <and>",
      "  (condition: org.apache.spark.sql.Column)org.apache.spark.sql.Dataset[org.apache.spark.sql.Row]",
      " cannot be applied to (Boolean)",
      "       var highest_number_calls_hood = fire_calls_sf.filter(col(\"City\") == \"SF\")",
      "                                                     ^",
      ""
     ]
    }
   ],
   "source": [
    "fire_calls_sf.createOrReplaceTempView(\"Neighborhood\")\n",
    "\n",
    "var highest_number_calls_hood = fire_calls_sf.filter(col(\"City\") == \"SF\")\n",
    " .groupBy(\"Neighborhood\")\n",
    " .agg(count(\"Neighborhood\").alias(\"Total\"))\n",
    " .orderBy(desc(\"Total\"))"
   ]
  }
 ],
 "metadata": {
  "kernelspec": {
   "display_name": "spylon-kernel",
   "language": "scala",
   "name": "spylon-kernel"
  },
  "language_info": {
   "codemirror_mode": "text/x-scala",
   "file_extension": ".scala",
   "help_links": [
    {
     "text": "MetaKernel Magics",
     "url": "https://metakernel.readthedocs.io/en/latest/source/README.html"
    }
   ],
   "mimetype": "text/x-scala",
   "name": "scala",
   "pygments_lexer": "scala",
   "version": "0.4.1"
  }
 },
 "nbformat": 4,
 "nbformat_minor": 5
}
