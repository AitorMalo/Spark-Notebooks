{
 "cells": [
  {
   "cell_type": "code",
   "execution_count": 31,
   "id": "f9d1be2d-28f0-46e5-ad37-a8d20e82d9b0",
   "metadata": {},
   "outputs": [
    {
     "data": {
      "text/plain": [
       "import org.apache.spark.sql.SparkSession\n",
       "import org.apache.spark.sql.functions._\n",
       "import org.apache.spark.sql.types.IntegerType\n"
      ]
     },
     "execution_count": 31,
     "metadata": {},
     "output_type": "execute_result"
    }
   ],
   "source": [
    "import org.apache.spark.sql.SparkSession\n",
    "import org.apache.spark.sql.functions._\n",
    "import org.apache.spark.sql.types.IntegerType"
   ]
  },
  {
   "cell_type": "code",
   "execution_count": 32,
   "id": "7376d39e-c8c3-4d1a-a807-10c91099843f",
   "metadata": {},
   "outputs": [
    {
     "data": {
      "text/plain": [
       "Spark: org.apache.spark.sql.SparkSession = org.apache.spark.sql.SparkSession@48363047\n"
      ]
     },
     "execution_count": 32,
     "metadata": {},
     "output_type": "execute_result"
    }
   ],
   "source": [
    "val Spark = SparkSession\n",
    " .builder\n",
    " .appName(\"Google Apps Exercise\")\n",
    " .getOrCreate()"
   ]
  },
  {
   "cell_type": "code",
   "execution_count": 33,
   "id": "8bc19adb-e662-4bc4-90a1-4062b87866ff",
   "metadata": {},
   "outputs": [
    {
     "data": {
      "text/plain": [
       "csvFile: String = googleplaystore.csv\n",
       "Dframe: org.apache.spark.sql.DataFrame = [App: string, Category: string ... 11 more fields]\n"
      ]
     },
     "execution_count": 33,
     "metadata": {},
     "output_type": "execute_result"
    }
   ],
   "source": [
    "val csvFile= \"googleplaystore.csv\"\n",
    "\n",
    "val Dframe = Spark.read.format(\"csv\")\n",
    " .option(\"inferSchema\", \"true\")\n",
    " .option(\"header\", \"true\")\n",
    " .load(csvFile)"
   ]
  },
  {
   "cell_type": "code",
   "execution_count": 34,
   "id": "2a66537e-b295-4f6b-b611-1ed3926780e3",
   "metadata": {},
   "outputs": [
    {
     "name": "stdout",
     "output_type": "stream",
     "text": [
      "+----------------+--------------+------+-------+----+----------+----+-----+--------------+------------+-------------+-----------+-----------+\n",
      "|             App|      Category|Rating|Reviews|Size|  Installs|Type|Price|Content Rating|      Genres| Last Updated|Current Ver|Android Ver|\n",
      "+----------------+--------------+------+-------+----+----------+----+-----+--------------+------------+-------------+-----------+-----------+\n",
      "|Infinite Painter|ART_AND_DESIGN|   4.1|  36815| 29M|1,000,000+|Free|    0|      Everyone|Art & Design|June 14, 2018|   6.1.61.1| 4.2 and up|\n",
      "+----------------+--------------+------+-------+----+----------+----+-----+--------------+------------+-------------+-----------+-----------+\n",
      "\n"
     ]
    }
   ],
   "source": [
    "Dframe.filter(Dframe(\"App\") === \"Infinite Painter\").show()"
   ]
  },
  {
   "cell_type": "code",
   "execution_count": 35,
   "id": "8b8e33a7-13cf-4c0a-abfa-696598c13ccc",
   "metadata": {},
   "outputs": [],
   "source": [
    "Dframe.createOrReplaceTempView(\"Google_Apps_tmp\")"
   ]
  },
  {
   "cell_type": "code",
   "execution_count": 36,
   "id": "341321f5-9f32-48af-8647-73a9d73fd250",
   "metadata": {},
   "outputs": [
    {
     "name": "stdout",
     "output_type": "stream",
     "text": [
      "+-----+\n",
      "|Total|\n",
      "+-----+\n",
      "|    1|\n",
      "+-----+\n",
      "\n"
     ]
    }
   ],
   "source": [
    "Spark.sql(\"SELECT count(App) as Total FROM Google_Apps_tmp WHERE App='Infinite Painter'\").show()"
   ]
  },
  {
   "cell_type": "markdown",
   "id": "6d6fed89-f9d8-484e-a4a7-198e7b290775",
   "metadata": {},
   "source": [
    "EJERCICIO 1"
   ]
  },
  {
   "cell_type": "code",
   "execution_count": 37,
   "id": "d40bd395-a43d-4d16-bba8-51131a18fc78",
   "metadata": {},
   "outputs": [
    {
     "name": "stdout",
     "output_type": "stream",
     "text": [
      "+--------------------+--------------+------+-------+----+-----------+----+-----+--------------+--------------------+------------------+------------------+------------+\n",
      "|                 App|      Category|Rating|Reviews|Size|   Installs|Type|Price|Content Rating|              Genres|      Last Updated|       Current Ver| Android Ver|\n",
      "+--------------------+--------------+------+-------+----+-----------+----+-----+--------------+--------------------+------------------+------------------+------------+\n",
      "|Photo Editor & Ca...|ART_AND_DESIGN|   4.1|    159| 19M|    10,000+|Free|    0|      Everyone|        Art & Design|   January 7, 2018|             1.0.0|4.0.3 and up|\n",
      "| Coloring book moana|ART_AND_DESIGN|   3.9|    967| 14M|   500,000+|Free|    0|      Everyone|Art & Design;Pret...|  January 15, 2018|             2.0.0|4.0.3 and up|\n",
      "|U Launcher Lite –...|ART_AND_DESIGN|   4.7|  87510|8.7M| 5,000,000+|Free|    0|      Everyone|        Art & Design|    August 1, 2018|             1.2.4|4.0.3 and up|\n",
      "|Sketch - Draw & P...|ART_AND_DESIGN|   4.5| 215644| 25M|50,000,000+|Free|    0|          Teen|        Art & Design|      June 8, 2018|Varies with device|  4.2 and up|\n",
      "|Pixel Draw - Numb...|ART_AND_DESIGN|   4.3|    967|2.8M|   100,000+|Free|    0|      Everyone|Art & Design;Crea...|     June 20, 2018|               1.1|  4.4 and up|\n",
      "|Paper flowers ins...|ART_AND_DESIGN|   4.4|    167|5.6M|    50,000+|Free|    0|      Everyone|        Art & Design|    March 26, 2017|               1.0|  2.3 and up|\n",
      "|Smoke Effect Phot...|ART_AND_DESIGN|   3.8|    178| 19M|    50,000+|Free|    0|      Everyone|        Art & Design|    April 26, 2018|               1.1|4.0.3 and up|\n",
      "|Garden Coloring Book|ART_AND_DESIGN|   4.4|  13791| 33M| 1,000,000+|Free|    0|      Everyone|        Art & Design|September 20, 2017|             2.9.2|  3.0 and up|\n",
      "|Kids Paint Free -...|ART_AND_DESIGN|   4.7|    121|3.1M|    10,000+|Free|    0|      Everyone|Art & Design;Crea...|      July 3, 2018|               2.8|4.0.3 and up|\n",
      "|Text on Photo - F...|ART_AND_DESIGN|   4.4|  13880| 28M| 1,000,000+|Free|    0|      Everyone|        Art & Design|  October 27, 2017|             1.0.4|  4.1 and up|\n",
      "|Name Art Photo Ed...|ART_AND_DESIGN|   4.4|   8788| 12M| 1,000,000+|Free|    0|      Everyone|        Art & Design|     July 31, 2018|            1.0.15|  4.0 and up|\n",
      "|Tattoo Name On My...|ART_AND_DESIGN|   4.2|  44829| 20M|10,000,000+|Free|    0|          Teen|        Art & Design|     April 2, 2018|               3.8|  4.1 and up|\n",
      "|Mandala Coloring ...|ART_AND_DESIGN|   4.6|   4326| 21M|   100,000+|Free|    0|      Everyone|        Art & Design|     June 26, 2018|             1.0.4|  4.4 and up|\n",
      "|3D Color Pixel by...|ART_AND_DESIGN|   4.4|   1518| 37M|   100,000+|Free|    0|      Everyone|        Art & Design|    August 3, 2018|             1.2.3|  2.3 and up|\n",
      "|Learn To Draw Kaw...|ART_AND_DESIGN|   3.2|     55|2.7M|     5,000+|Free|    0|      Everyone|        Art & Design|      June 6, 2018|               NaN|  4.2 and up|\n",
      "|Photo Designer - ...|ART_AND_DESIGN|   4.7|   3632|5.5M|   500,000+|Free|    0|      Everyone|        Art & Design|     July 31, 2018|               3.1|  4.1 and up|\n",
      "|350 Diy Room Deco...|ART_AND_DESIGN|   4.5|     27| 17M|    10,000+|Free|    0|      Everyone|        Art & Design|  November 7, 2017|               1.0|  2.3 and up|\n",
      "|FlipaClip - Carto...|ART_AND_DESIGN|   4.3| 194216| 39M| 5,000,000+|Free|    0|      Everyone|        Art & Design|    August 3, 2018|             2.2.5|4.0.3 and up|\n",
      "|        ibis Paint X|ART_AND_DESIGN|   4.6| 224399| 31M|10,000,000+|Free|    0|      Everyone|        Art & Design|     July 30, 2018|             5.5.4|  4.1 and up|\n",
      "|Logo Maker - Smal...|ART_AND_DESIGN|   4.0|    450| 14M|   100,000+|Free|    0|      Everyone|        Art & Design|    April 20, 2018|               4.0|  4.1 and up|\n",
      "+--------------------+--------------+------+-------+----+-----------+----+-----+--------------+--------------------+------------------+------------------+------------+\n",
      "only showing top 20 rows\n",
      "\n"
     ]
    },
    {
     "data": {
      "text/plain": [
       "Dframe_updated: org.apache.spark.sql.Dataset[org.apache.spark.sql.Row] = [App: string, Category: string ... 11 more fields]\n"
      ]
     },
     "execution_count": 37,
     "metadata": {},
     "output_type": "execute_result"
    }
   ],
   "source": [
    "val Dframe_updated = Dframe.filter(not($\"App\".equalTo(\"Infinite Painter\")))\n",
    "Dframe_updated.show()"
   ]
  },
  {
   "cell_type": "markdown",
   "id": "a38afb88-0bc6-4c16-8826-c772a1cf8cfd",
   "metadata": {},
   "source": [
    "EJERCICIO 2"
   ]
  },
  {
   "cell_type": "code",
   "execution_count": 38,
   "id": "b9add360-4e65-406c-98f9-20223300291e",
   "metadata": {},
   "outputs": [
    {
     "data": {
      "text/plain": [
       "replace_NaN: org.apache.spark.sql.DataFrame = [App: string, Category: string ... 11 more fields]\n",
       "res28: Long = 0\n"
      ]
     },
     "execution_count": 38,
     "metadata": {},
     "output_type": "execute_result"
    }
   ],
   "source": [
    "val replace_NaN = Dframe.withColumn(\"Rating\", when(col(\"Rating\") === \"NaN\", \"0\").otherwise(col(\"Rating\")))\n",
    "replace_NaN.filter(replace_NaN(\"Rating\") === \"NaN\").count()"
   ]
  },
  {
   "cell_type": "markdown",
   "id": "b9d54e9a-e279-41d4-98f1-e7dc0996d1ca",
   "metadata": {},
   "source": [
    "EJERCICIO 3"
   ]
  },
  {
   "cell_type": "code",
   "execution_count": 19,
   "id": "1d9c2b97-3f82-43b9-9923-cfbffad13c96",
   "metadata": {},
   "outputs": [
    {
     "data": {
      "text/plain": [
       "replace_NaN_Type: org.apache.spark.sql.DataFrame = [App: string, Category: string ... 11 more fields]\n",
       "res12: Long = 1\n"
      ]
     },
     "execution_count": 19,
     "metadata": {},
     "output_type": "execute_result"
    }
   ],
   "source": [
    "val replace_NaN_Type = replace_NaN.withColumn(\"Type\", when(col(\"Type\") === \"NaN\", \"Unknow\").otherwise(col(\"Type\")))\n",
    "replace_NaN_Type.filter(replace_NaN_Type(\"Type\") === \"Unknow\").count()"
   ]
  },
  {
   "cell_type": "markdown",
   "id": "947a924f-7870-4222-b7b3-8532f97c0d4d",
   "metadata": {},
   "source": [
    "EJERCICIO 5"
   ]
  },
  {
   "cell_type": "code",
   "execution_count": 30,
   "id": "d51435b8-cbfd-4ee7-8123-76bd7e9a4140",
   "metadata": {},
   "outputs": [
    {
     "name": "stdout",
     "output_type": "stream",
     "text": [
      "+------------------+----------------------+\n",
      "|Rating_Categorical|Número de valoraciones|\n",
      "+------------------+----------------------+\n",
      "|              Alta|                  1711|\n",
      "|          Muy Alta|                  7367|\n",
      "|             Media|                   231|\n",
      "|              Baja|                  1532|\n",
      "+------------------+----------------------+\n",
      "\n"
     ]
    },
    {
     "data": {
      "text/plain": [
       "int_df: org.apache.spark.sql.DataFrame = [App: string, Category: string ... 11 more fields]\n",
       "Rating_Categorical_dframe: org.apache.spark.sql.DataFrame = [App: string, Category: string ... 12 more fields]\n"
      ]
     },
     "execution_count": 30,
     "metadata": {},
     "output_type": "execute_result"
    }
   ],
   "source": [
    "val int_df = replace_NaN_Type.withColumn(\"Installs\",col(\"Installs\").cast(IntegerType))\n",
    "\n",
    "\n",
    "val Rating_Categorical_dframe = replace_NaN_Type.withColumn(\"Rating_Categorical\", \n",
    "      expr(\"case when Rating < '2' then 'Baja'\" + \n",
    "           \"when Rating >= '2' AND Rating<'3' then 'Media' \" +\n",
    "           \"when Rating >= '3' AND Rating<'4' then 'Alta'\" +\n",
    "           \"when Rating >= '4' then 'Muy Alta'\" +\n",
    "           \"else 'Unknown' end\"))\n",
    "\n",
    "Rating_Categorical_dframe.filter(Rating_Categorical_dframe(\"Rating_Categorical\")===\"Baja\")\n",
    "Rating_Categorical_dframe.groupBy(\"Rating_Categorical\").agg(count(\"Rating_Categorical\").alias(\"Número de valoraciones\")).show()"
   ]
  },
  {
   "cell_type": "markdown",
   "id": "c37d8c0a-f1d5-4710-abd8-61d0a7b44178",
   "metadata": {},
   "source": [
    "EJERCICIO 6 A"
   ]
  },
  {
   "cell_type": "code",
   "execution_count": 42,
   "id": "e818ee1f-4ee1-4896-8b0c-048a25df5656",
   "metadata": {},
   "outputs": [
    {
     "name": "stdout",
     "output_type": "stream",
     "text": [
      "+--------------------+------+\n",
      "|                 App|Rating|\n",
      "+--------------------+------+\n",
      "|U Launcher Lite –...|   4.7|\n",
      "|Kids Paint Free -...|   4.7|\n",
      "|Mandala Coloring ...|   4.6|\n",
      "|Photo Designer - ...|   4.7|\n",
      "|        ibis Paint X|   4.6|\n",
      "|Superheroes Wallp...|   4.7|\n",
      "|HD Mickey Minnie ...|   4.7|\n",
      "|Harley Quinn wall...|   4.8|\n",
      "|Colorfit - Drawin...|   4.7|\n",
      "|     I Creative Idea|   4.7|\n",
      "|UNICORN - Color B...|   4.7|\n",
      "|PIP Camera - PIP ...|   4.7|\n",
      "|Canva: Poster, ba...|   4.7|\n",
      "|Install images wi...|   4.6|\n",
      "|Used Cars and Tru...|   4.6|\n",
      "|Tickets SDA 2018 ...|   4.9|\n",
      "|        CityBus Lviv|   4.6|\n",
      "|CDL Practice Test...|   4.9|\n",
      "|Free VIN Report f...|   4.6|\n",
      "|DMV Permit Practi...|   4.9|\n",
      "+--------------------+------+\n",
      "only showing top 20 rows\n",
      "\n"
     ]
    },
    {
     "data": {
      "text/plain": [
       "dframe_limpio: org.apache.spark.sql.DataFrame = [App: string, Category: string ... 12 more fields]\n"
      ]
     },
     "execution_count": 42,
     "metadata": {},
     "output_type": "execute_result"
    }
   ],
   "source": [
    "val dframe_limpio = Rating_Categorical_dframe\n",
    "dframe_limpio.select(\"App\",\"Rating\").filter(dframe_limpio(\"Rating\")>4.5).show()"
   ]
  },
  {
   "cell_type": "markdown",
   "id": "97438248-d26b-43df-9130-c317c236b07e",
   "metadata": {},
   "source": [
    "EJERCICIO 6 B"
   ]
  },
  {
   "cell_type": "code",
   "execution_count": 47,
   "id": "2a82f3c4-4116-4b97-a360-1c9875acb036",
   "metadata": {},
   "outputs": [
    {
     "data": {
      "text/plain": [
       "res36: Long = 6840\n"
      ]
     },
     "execution_count": 47,
     "metadata": {},
     "output_type": "execute_result"
    }
   ],
   "source": [
    "dframe_limpio.select(\"App\",\"Rating_Categorical\",\"Type\").filter(dframe_limpio(\"Rating_Categorical\")===\"Muy Alta\").filter(dframe_limpio(\"Type\")===\"Free\").count()"
   ]
  },
  {
   "cell_type": "markdown",
   "id": "69e36c8f-35e3-4dd5-9293-1409f5fa0aef",
   "metadata": {},
   "source": [
    "EJERCICIO 6C"
   ]
  },
  {
   "cell_type": "code",
   "execution_count": 72,
   "id": "bc22eb28-57b3-4ba9-b1dd-1b9ddc5c2d88",
   "metadata": {},
   "outputs": [
    {
     "name": "stdout",
     "output_type": "stream",
     "text": [
      "+--------------------+-----+\n",
      "|                 App|Price|\n",
      "+--------------------+-----+\n",
      "|TurboScan: scan d...|$4.99|\n",
      "|Tiny Scanner Pro:...|$4.99|\n",
      "|TurboScan: scan d...|$4.99|\n",
      "|Tiny Scanner Pro:...|$4.99|\n",
      "|  Puffin Browser Pro|$3.99|\n",
      "|Moco+ - Chat, Mee...|$3.99|\n",
      "|          Calculator|$6.99|\n",
      "|   Truth or Dare Pro|$1.49|\n",
      "|Private Dating, H...|$2.99|\n",
      "|Ad Blocker for SayHi|$3.99|\n",
      "|AMBW Dating App: ...|$7.99|\n",
      "|Moco+ - Chat, Mee...|$3.99|\n",
      "| Sago Mini Hat Maker|$3.99|\n",
      "|Fuzzy Numbers: Pr...|$5.99|\n",
      "|     Toca Life: City|$3.99|\n",
      "| Toca Life: Hospital|$3.99|\n",
      "|      My Talking Pet|$4.99|\n",
      "|      Meme Generator|$2.99|\n",
      "|My CookBook Pro (...|$3.49|\n",
      "|Paprika Recipe Ma...|$4.99|\n",
      "+--------------------+-----+\n",
      "only showing top 20 rows\n",
      "\n"
     ]
    }
   ],
   "source": [
    "dframe_limpio.select(\"App\",\"Price\").filter(dframe_limpio(\"Price\")<\"13\").filter(dframe_limpio(\"Price\")!==\"0\").show()"
   ]
  },
  {
   "cell_type": "code",
   "execution_count": null,
   "id": "cf269db1-b448-4899-8007-dc3f6c63924a",
   "metadata": {},
   "outputs": [],
   "source": [
    "df.sample(0.1).collect()"
   ]
  }
 ],
 "metadata": {
  "kernelspec": {
   "display_name": "spylon-kernel",
   "language": "scala",
   "name": "spylon-kernel"
  },
  "language_info": {
   "codemirror_mode": "text/x-scala",
   "file_extension": ".scala",
   "help_links": [
    {
     "text": "MetaKernel Magics",
     "url": "https://metakernel.readthedocs.io/en/latest/source/README.html"
    }
   ],
   "mimetype": "text/x-scala",
   "name": "scala",
   "pygments_lexer": "scala",
   "version": "0.4.1"
  }
 },
 "nbformat": 4,
 "nbformat_minor": 5
}
