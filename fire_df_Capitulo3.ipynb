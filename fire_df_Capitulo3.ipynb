{
 "cells": [
  {
   "cell_type": "code",
   "execution_count": null,
   "id": "ff04378e-e4c5-4712-bd37-7556cf2f1d43",
   "metadata": {},
   "outputs": [],
   "source": [
    "from pyspark.sql.types import *\n",
    "from pyspark.sql import SparkSession\n",
    "from pyspark.sql.functions import *\n",
    "import json"
   ]
  },
  {
   "cell_type": "code",
   "execution_count": 9,
   "id": "9368c22b-79d7-42b1-9a6a-d8b7a1bb2800",
   "metadata": {},
   "outputs": [],
   "source": [
    "fire_schema = StructType([StructField('CallNumber', IntegerType(), True),\n",
    " StructField('UnitID', StringType(), True),\n",
    " StructField('IncidentNumber', IntegerType(), True),\n",
    " StructField('CallType', StringType(), True), \n",
    " StructField('CallDate', StringType(), True), \n",
    " StructField('WatchDate', StringType(), True),\n",
    " StructField('CallFinalDisposition', StringType(), True),\n",
    " StructField('AvailableDtTm', StringType(), True),\n",
    " StructField('Address', StringType(), True), \n",
    " StructField('City', StringType(), True), \n",
    " StructField('Zipcode', IntegerType(), True), \n",
    " StructField('Battalion', StringType(), True), \n",
    " StructField('StationArea', StringType(), True), \n",
    " StructField('Box', StringType(), True), \n",
    " StructField('OriginalPriority', StringType(), True), \n",
    " StructField('Priority', StringType(), True), \n",
    " StructField('FinalPriority', IntegerType(), True), \n",
    " StructField('ALSUnit', BooleanType(), True), \n",
    " StructField('CallTypeGroup', StringType(), True),\n",
    " StructField('NumAlarms', IntegerType(), True),\n",
    " StructField('UnitType', StringType(), True),\n",
    " StructField('UnitSequenceInCallDispatch', IntegerType(), True),\n",
    " StructField('FirePreventionDistrict', StringType(), True),\n",
    " StructField('SupervisorDistrict', StringType(), True),\n",
    " StructField('Neighborhood', StringType(), True),\n",
    " StructField('Location', StringType(), True),\n",
    " StructField('RowID', StringType(), True),\n",
    " StructField('Delay', FloatType(), True)])\n",
    "#Nullable column"
   ]
  },
  {
   "cell_type": "code",
   "execution_count": 8,
   "id": "4ee4aec3-3dd7-48d7-a4d8-459b68b3861b",
   "metadata": {},
   "outputs": [],
   "source": [
    "spark = (SparkSession.builder.appName(\"Fire Calls\").getOrCreate())\n",
    "fire_df = spark.read.csv(\"sf-fire-calls.csv\", header=True, schema=fire_schema)"
   ]
  },
  {
   "cell_type": "code",
   "execution_count": null,
   "id": "60f4cb41-3086-4dd8-9da6-9bb81f437796",
   "metadata": {},
   "outputs": [],
   "source": [
    "fire_df_csv = fire_df.write\\\n",
    ".option(\"header\",\"true\")\\\n",
    ".csv(\"work/Parquet.csv\")"
   ]
  },
  {
   "cell_type": "code",
   "execution_count": null,
   "id": "07f5f33a-a827-49c3-983e-bbc5c5110b24",
   "metadata": {},
   "outputs": [],
   "source": [
    "fire_df_json = fire_df.toJSON()"
   ]
  },
  {
   "cell_type": "code",
   "execution_count": null,
   "id": "bea57765-62b2-46a3-b337-cccd4a101837",
   "metadata": {},
   "outputs": [],
   "source": [
    "fire_df_avro = fire_df.write.format(\"avro\").save(\"/tmp/avro/fire_df.avro\")"
   ]
  }
 ],
 "metadata": {
  "kernelspec": {
   "display_name": "Python 3 (ipykernel)",
   "language": "python",
   "name": "python3"
  },
  "language_info": {
   "codemirror_mode": {
    "name": "ipython",
    "version": 3
   },
   "file_extension": ".py",
   "mimetype": "text/x-python",
   "name": "python",
   "nbconvert_exporter": "python",
   "pygments_lexer": "ipython3",
   "version": "3.9.10"
  }
 },
 "nbformat": 4,
 "nbformat_minor": 5
}
