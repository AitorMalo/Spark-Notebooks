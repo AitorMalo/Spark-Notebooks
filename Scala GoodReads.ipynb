{
 "cells": [
  {
   "cell_type": "code",
   "execution_count": 83,
   "id": "516a4757-bedd-4ef7-b7fd-747777f625d3",
   "metadata": {},
   "outputs": [
    {
     "data": {
      "text/plain": [
       "import org.apache.spark.sql.types.{StructType, StructField, StringType, IntegerType, DoubleType}\n",
       "import org.apache.spark.sql.SparkSession\n",
       "import java.io.File\n",
       "import org.apache.spark.SparkContext\n",
       "import org.apache.spark.sql._\n",
       "import scala.collection.mutable\n"
      ]
     },
     "execution_count": 83,
     "metadata": {},
     "output_type": "execute_result"
    }
   ],
   "source": [
    "%scala\n",
    "import org.apache.spark.sql.types.{StructType, StructField, StringType, IntegerType,DoubleType};\n",
    "import org.apache.spark.sql.SparkSession\n",
    "import java.io.File\n",
    "import org.apache.spark.SparkContext\n",
    "import org.apache.spark.sql._\n",
    "import scala.collection.mutable"
   ]
  },
  {
   "cell_type": "code",
   "execution_count": 84,
   "id": "66ee931e-0783-408d-8502-c8976aa93391",
   "metadata": {},
   "outputs": [
    {
     "data": {
      "text/plain": [
       "spark: org.apache.spark.sql.SparkSession = org.apache.spark.sql.SparkSession@7dc0dd3f\n"
      ]
     },
     "execution_count": 84,
     "metadata": {},
     "output_type": "execute_result"
    }
   ],
   "source": [
    " val spark = SparkSession\n",
    " .builder\n",
    " .appName(\"GoodReads\")\n",
    " .getOrCreate()"
   ]
  },
  {
   "cell_type": "code",
   "execution_count": 85,
   "id": "c5a9619d-4969-48fd-96e5-a034d04d4819",
   "metadata": {},
   "outputs": [
    {
     "data": {
      "text/plain": [
       "schema: org.apache.spark.sql.types.StructType = StructType(StructField(Id,IntegerType,false), StructField(Name,StringType,true), StructField(Authors,StringType,true), StructField(PagesNumber,IntegerType,true), StructField(RatingDist1,StringType,true), StructField(RatingDist2,StringType,true), StructField(RatingDist3,StringType,true), StructField(RatingDist4,StringType,true), StructField(RatingDist5,StringType,true), StructField(RatingDistTotal,StringType,true), StructField(PublishDay,StringType,true), StructField(PublishMonth,StringType,true), StructField(PublishYear,StringType,true), StructField(Publisher,StringType,true), StructField(CountsOfReview,IntegerType,true), StructField(Language,StringType,true), StructField(Rating,DoubleType,true), StructField(ISBN,StringType,true))\n"
      ]
     },
     "execution_count": 85,
     "metadata": {},
     "output_type": "execute_result"
    }
   ],
   "source": [
    "val schema = StructType(Array(StructField(\"Id\", IntegerType, false),\n",
    "                          StructField(\"Name\", StringType, true),\n",
    "                          StructField(\"Authors\", StringType, true),\n",
    "                          StructField(\"PagesNumber\", IntegerType, true),\n",
    "                          StructField(\"RatingDist1\", StringType, true),\n",
    "                          StructField(\"RatingDist2\", StringType, true),\n",
    "                          StructField(\"RatingDist3\", StringType, true),\n",
    "                          StructField(\"RatingDist4\", StringType, true),\n",
    "                          StructField(\"RatingDist5\", StringType, true),\n",
    "                          StructField(\"RatingDistTotal\", StringType, true),\n",
    "                          StructField(\"PublishDay\", StringType, true),\n",
    "                          StructField(\"PublishMonth\", StringType, true),\n",
    "                          StructField(\"PublishYear\", StringType, true),\n",
    "                          StructField(\"Publisher\", StringType, true),\n",
    "                          StructField(\"CountsOfReview\", IntegerType, true),\n",
    "                          StructField(\"Language\", StringType, true),\n",
    "                          StructField(\"Rating\", DoubleType, true),\n",
    "                          StructField(\"ISBN\", StringType, true)))"
   ]
  },
  {
   "cell_type": "code",
   "execution_count": 86,
   "id": "1fd626ca-748d-4dc7-9bd1-350223986440",
   "metadata": {},
   "outputs": [
    {
     "data": {
      "text/plain": [
       "getListOfFiles: (dir: String)List[java.io.File]\n",
       "books_list: List[java.io.File] = List(books/book1-100k.csv, books/book100k-200k.csv, books/book1400k-1500k.csv, books/book200k-300k.csv, books/book300k-400k.csv, books/book400k-500k.csv, books/book500k-600k.csv, books/user_rating_0_to_1000.csv, books/user_rating_1000_to_2000.csv, books/user_rating_2000_to_3000.csv, books/user_rating_3000_to_4000.csv, books/user_rating_4000_to_5000.csv, books/user_rating_5000_to_6000.csv, books/user_rating_6000_to_11000.csv)\n"
      ]
     },
     "execution_count": 86,
     "metadata": {},
     "output_type": "execute_result"
    }
   ],
   "source": [
    "def getListOfFiles(dir: String):List[File] = {\n",
    "    val d = new File(dir)\n",
    "    if (d.exists && d.isDirectory) {\n",
    "        d.listFiles.filter(_.isFile).toList\n",
    "    } else {\n",
    "        List[File]()\n",
    "    }\n",
    "}\n",
    "\n",
    "val books_list = getListOfFiles(\"books\")"
   ]
  },
  {
   "cell_type": "code",
   "execution_count": 123,
   "id": "02f1d5de-48f2-4fc4-90b6-6700c6ef7e74",
   "metadata": {},
   "outputs": [
    {
     "data": {
      "text/plain": [
       "dataframes_list: scala.collection.mutable.ArrayBuffer[org.apache.spark.sql.DataFrame] = ArrayBuffer([Id: string, Name: string ... 16 more fields], [pagesNumber: string, Authors: string ... 16 more fields], [Id: string, Name: string ... 18 more fields], [Publisher: string, RatingDistTotal: string ... 16 more fields], [RatingDist4: string, RatingDist1: string ... 16 more fields], [PublishYear: string, Rating: string ... 16 more fields], [Id: string, Name: string ... 16 more fields], [ID: string, Name: string ... 1 more field], [ID: string, Name: string ... 1 more field], [ID: string, Name: string ... 1 more field], [ID: string, Name: string ... 1 more field], [ID: string, Name: string ... 1 more field], [ID: string, Name: string ... 1 more field], [ID: string, Name: string ... 1 more field])\n"
      ]
     },
     "execution_count": 123,
     "metadata": {},
     "output_type": "execute_result"
    }
   ],
   "source": [
    "val dataframes_list = mutable.ArrayBuffer[DataFrame]()\n",
    "\n",
    "for (b<-books_list){\n",
    "\n",
    "    dataframes_list+=spark.read.format(\"csv\") \n",
    "            .option(\"header\", \"true\")    \n",
    "            .option(\"quote\", \"\\\"\")\n",
    "            .option(\"escape\", \"\\\"\")\n",
    "            .option(\"ignoreLeadingWhiteSpace\", \"true\")\n",
    "            .option(\"ignoreTrailingWhiteSpace\", \"true\")\n",
    "            .option(\"multiLine\", \"true\")\n",
    "            .load(b.toString)\n",
    "}"
   ]
  },
  {
   "cell_type": "code",
   "execution_count": 163,
   "id": "533f4580-6243-4a81-aedc-bef4f94482b4",
   "metadata": {},
   "outputs": [
    {
     "data": {
      "text/plain": [
       "dataframe: org.apache.spark.sql.DataFrame = [Id: int, Name: string ... 16 more fields]\n"
      ]
     },
     "execution_count": 163,
     "metadata": {},
     "output_type": "execute_result"
    }
   ],
   "source": [
    "var dataframe = spark.createDataFrame(spark.sparkContext.emptyRDD[Row], schema)"
   ]
  },
  {
   "cell_type": "code",
   "execution_count": 185,
   "id": "51d53835-8129-408c-8747-3d79066597aa",
   "metadata": {},
   "outputs": [],
   "source": [
    "for (f<-dataframes_list){\n",
    " dataframe = dataframe.unionByName(f, allowMissingColumns = true)\n",
    "}"
   ]
  },
  {
   "cell_type": "code",
   "execution_count": 182,
   "id": "a3e26476-6572-4124-b58a-4af9feb64f8c",
   "metadata": {},
   "outputs": [
    {
     "name": "stdout",
     "output_type": "stream",
     "text": [
      "+--------------------+---------------+\n",
      "|                Name|         Rating|\n",
      "+--------------------+---------------+\n",
      "|             The BFG|really liked it|\n",
      "|White Hunters: Th...|really liked it|\n",
      "|Ready-to-Use Old-...|really liked it|\n",
      "|       The Rails Way|really liked it|\n",
      "|The Chronicles of...|really liked it|\n",
      "|Ready Player One ...|really liked it|\n",
      "|The Religion (Tan...|really liked it|\n",
      "|The Collapsing Em...|really liked it|\n",
      "|          The Circle|really liked it|\n",
      "|Thunderball (Jame...|really liked it|\n",
      "|    The Anubis Gates|really liked it|\n",
      "|La Belle Sauvage ...|really liked it|\n",
      "|The Complete Sher...|really liked it|\n",
      "|Moon Handbooks So...|really liked it|\n",
      "|         Street Boys|really liked it|\n",
      "+--------------------+---------------+\n",
      "only showing top 15 rows\n",
      "\n"
     ]
    }
   ],
   "source": [
    "dataframe.select(\"Name\",\"Rating\").orderBy(desc(\"Rating\")).show(15, true)"
   ]
  },
  {
   "cell_type": "code",
   "execution_count": 172,
   "id": "eb7ae219-6abc-4387-b535-52c4878bec5d",
   "metadata": {},
   "outputs": [
    {
     "name": "stdout",
     "output_type": "stream",
     "text": [
      "+-----------------+\n",
      "|  Rating promedio|\n",
      "+-----------------+\n",
      "|3.464592991292083|\n",
      "+-----------------+\n",
      "\n",
      "+--------------------+------------------+\n",
      "|             Authors|   Rating promedio|\n",
      "+--------------------+------------------+\n",
      "|Michael Eliot Howard| 3.768333333333333|\n",
      "|           Neal Ford|              3.38|\n",
      "|       Rachel Andrew|           3.37875|\n",
      "|          James Frey| 3.728333333333333|\n",
      "|         Bill Bright|             4.128|\n",
      "|     Eric Klinenberg|              3.63|\n",
      "|     Karen Armstrong|3.9354285714285715|\n",
      "|          Dava Sobel|          3.779375|\n",
      "|        Richard King|              3.98|\n",
      "|        Joseph Monti|               4.0|\n",
      "|        Philip Hofer|               0.0|\n",
      "|         Ann Beattie|              3.56|\n",
      "|          Jack Ahern|               2.5|\n",
      "|        Steve Kokker|              3.92|\n",
      "|        Diane Conway|              1.79|\n",
      "|       Julian Harvey|               0.0|\n",
      "|     Thomas S. Mowle|               0.0|\n",
      "|        Helena Grice|             4.225|\n",
      "|        Sarah Leslie|               4.1|\n",
      "|     Richard T. Ryan|              4.07|\n",
      "+--------------------+------------------+\n",
      "only showing top 20 rows\n",
      "\n",
      "+--------------------+------------------+\n",
      "|           Publisher|   Rating promedio|\n",
      "+--------------------+------------------+\n",
      "|       The New Press|3.8084444444444445|\n",
      "|        Chosen Books| 4.041029411764706|\n",
      "|            Capstone| 2.412142857142857|\n",
      "|      Celestial Arts|3.4188983050847455|\n",
      "|        Lorenz Books|3.1705806451612903|\n",
      "|Gerald Duckworth ...|3.2729166666666667|\n",
      "|                 DAW|3.8162535211267605|\n",
      "|       Digireads.com| 3.916571428571428|\n",
      "|John Benjamins Pu...|1.9730232558139533|\n",
      "|           IVP Books| 3.890281690140845|\n",
      "|               Ember| 3.779411764705883|\n",
      "|Triumph Entertain...|              4.26|\n",
      "| Orange Frazer Press|3.1573333333333333|\n",
      "|       No Exit Press|             3.868|\n",
      "|Chicago Review Press|3.6826881720430116|\n",
      "|     Dance Books Ltd|3.3799999999999994|\n",
      "| Harvard Art Museums|             2.045|\n",
      "|                 HQN| 3.839230769230769|\n",
      "|Arcadia Publishin...| 3.489751243781094|\n",
      "|Hachette Littérature|3.5641176470588234|\n",
      "+--------------------+------------------+\n",
      "only showing top 20 rows\n",
      "\n",
      "+----------------------------------------------+\n",
      "|Numero de páginas promedio de todos los libros|\n",
      "+----------------------------------------------+\n",
      "|                             283.0656191418664|\n",
      "+----------------------------------------------+\n",
      "\n",
      "+--------------------+----------------------------------------------+\n",
      "|             Authors|Numero de páginas promedio de todos los libros|\n",
      "+--------------------+----------------------------------------------+\n",
      "|Michael Eliot Howard|                            238.91666666666666|\n",
      "|           Neal Ford|                                         256.0|\n",
      "|       Rachel Andrew|                                       416.625|\n",
      "|          James Frey|                             423.3333333333333|\n",
      "|         Bill Bright|                                         255.6|\n",
      "|     Eric Klinenberg|                                         309.0|\n",
      "|     Karen Armstrong|                            345.74285714285713|\n",
      "|          Dava Sobel|                                       265.375|\n",
      "|        Richard King|                                         279.5|\n",
      "|        Joseph Monti|                                         365.0|\n",
      "|        Philip Hofer|                                         188.0|\n",
      "|         Ann Beattie|                            260.64285714285717|\n",
      "|          Jack Ahern|                                         128.0|\n",
      "|        Steve Kokker|                                         412.0|\n",
      "|        Diane Conway|                                         124.0|\n",
      "|       Julian Harvey|                                         666.0|\n",
      "|     Thomas S. Mowle|                                         240.0|\n",
      "|        Helena Grice|                                         156.0|\n",
      "|        Sarah Leslie|                                          20.0|\n",
      "|     Richard T. Ryan|                                         185.0|\n",
      "+--------------------+----------------------------------------------+\n",
      "only showing top 20 rows\n",
      "\n",
      "+--------------------+----------------------------------------------+\n",
      "|           Publisher|Numero de páginas promedio de todos los libros|\n",
      "+--------------------+----------------------------------------------+\n",
      "|       The New Press|                             302.8666666666667|\n",
      "|        Chosen Books|                            230.60294117647058|\n",
      "|            Capstone|                            211.71428571428572|\n",
      "|      Celestial Arts|                            204.77118644067798|\n",
      "|        Lorenz Books|                            217.84516129032258|\n",
      "|Gerald Duckworth ...|                            234.95833333333334|\n",
      "|                 DAW|                             417.1718309859155|\n",
      "|       Digireads.com|                            116.61428571428571|\n",
      "|John Benjamins Pu...|                            321.37984496124034|\n",
      "|           IVP Books|                            207.18309859154928|\n",
      "|               Ember|                            290.29411764705884|\n",
      "|Triumph Entertain...|                                         128.0|\n",
      "| Orange Frazer Press|                             264.6666666666667|\n",
      "|       No Exit Press|                                         339.5|\n",
      "|Chicago Review Press|                            278.14516129032256|\n",
      "|     Dance Books Ltd|                            186.33333333333334|\n",
      "| Harvard Art Museums|                                       204.875|\n",
      "|                 HQN|                            367.96153846153845|\n",
      "|Arcadia Publishin...|                            129.12437810945275|\n",
      "|Hachette Littérature|                             276.3529411764706|\n",
      "+--------------------+----------------------------------------------+\n",
      "only showing top 20 rows\n",
      "\n",
      "+--------------------+---------------------------+\n",
      "|             Authors|Número de libros publicados|\n",
      "+--------------------+---------------------------+\n",
      "|Michael Eliot Howard|                         12|\n",
      "|           Neal Ford|                          1|\n",
      "|       Rachel Andrew|                          8|\n",
      "|          James Frey|                          6|\n",
      "|         Bill Bright|                          5|\n",
      "|     Eric Klinenberg|                          4|\n",
      "|     Karen Armstrong|                         35|\n",
      "|          Dava Sobel|                         16|\n",
      "|        Richard King|                          2|\n",
      "|        Joseph Monti|                          1|\n",
      "|        Philip Hofer|                          1|\n",
      "|         Ann Beattie|                         14|\n",
      "|          Jack Ahern|                          1|\n",
      "|        Steve Kokker|                          2|\n",
      "|        Diane Conway|                          2|\n",
      "|       Julian Harvey|                          1|\n",
      "|     Thomas S. Mowle|                          1|\n",
      "|        Helena Grice|                          2|\n",
      "|        Sarah Leslie|                          2|\n",
      "|     Richard T. Ryan|                          1|\n",
      "+--------------------+---------------------------+\n",
      "only showing top 20 rows\n",
      "\n"
     ]
    }
   ],
   "source": [
    "dataframe.agg(mean(\"Rating\").alias(\"Rating promedio\")).show()\n",
    "\n",
    "dataframe.groupBy(\"Authors\").agg(mean(\"Rating\").alias(\"Rating promedio\")).show()\n",
    "\n",
    "dataframe.groupBy(\"Publisher\").agg(mean(\"Rating\").alias(\"Rating promedio\")).show()\n",
    "\n",
    "dataframe.agg(mean(\"PagesNumber\").alias(\"Numero de páginas promedio de todos los libros\")).show()\n",
    "\n",
    "dataframe.groupBy(\"Authors\").agg(mean(\"PagesNumber\").alias(\"Numero de páginas promedio de todos los libros\")).show()\n",
    "\n",
    "dataframe.groupBy(\"Publisher\").agg(mean(\"PagesNumber\").alias(\"Numero de páginas promedio de todos los libros\")).show()\n",
    "\n",
    "dataframe.groupBy(\"Authors\").agg(count(\"Id\").alias(\"Número de libros publicados\")).show()"
   ]
  }
 ],
 "metadata": {
  "kernelspec": {
   "display_name": "spylon-kernel",
   "language": "scala",
   "name": "spylon-kernel"
  },
  "language_info": {
   "codemirror_mode": "text/x-scala",
   "file_extension": ".scala",
   "help_links": [
    {
     "text": "MetaKernel Magics",
     "url": "https://metakernel.readthedocs.io/en/latest/source/README.html"
    }
   ],
   "mimetype": "text/x-scala",
   "name": "scala",
   "pygments_lexer": "scala",
   "version": "0.4.1"
  }
 },
 "nbformat": 4,
 "nbformat_minor": 5
}
