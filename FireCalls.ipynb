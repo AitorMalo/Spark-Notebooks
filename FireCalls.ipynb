{
 "cells": [
  {
   "cell_type": "code",
   "execution_count": 116,
   "id": "b21f1973-8f58-4afb-a982-da5873ac36ad",
   "metadata": {},
   "outputs": [],
   "source": [
    "from pyspark.sql import SparkSession\n",
    "from pyspark.sql.functions import *"
   ]
  },
  {
   "cell_type": "code",
   "execution_count": null,
   "id": "9c378f17-96f7-42a4-b7b9-b680240371b6",
   "metadata": {},
   "outputs": [],
   "source": [
    "spark = (SparkSession.builder.appName(\"Fire Calls\").getOrCreate())"
   ]
  },
  {
   "cell_type": "code",
   "execution_count": null,
   "id": "1bbad746-7c87-4856-bd23-5a2ce18d5719",
   "metadata": {},
   "outputs": [],
   "source": [
    "firecalls_df = (spark.read.format(\"csv\").option(\"header\",\"true\").option(\"inferSchema\",\"true\").load(\"sf-fire-calls.csv\"))"
   ]
  },
  {
   "cell_type": "markdown",
   "id": "bf8d86a1-ab32-4b1a-81dc-2dd2310f9c92",
   "metadata": {},
   "source": [
    "EJERCICIO 1"
   ]
  },
  {
   "cell_type": "code",
   "execution_count": 84,
   "id": "25aa8bd0-8fbe-4038-ab9d-0ddc3ba6beb8",
   "metadata": {},
   "outputs": [
    {
     "name": "stdout",
     "output_type": "stream",
     "text": [
      "30 incidentes diferentes\n"
     ]
    }
   ],
   "source": [
    "firecalls_df.createOrReplaceTempView(\"CallType\")\n",
    "types_df = spark.sql(\"SELECT DISTINCT CallType FROM CallType\")\n",
    "print(types_df.count(), \"incidentes diferentes\")"
   ]
  },
  {
   "cell_type": "markdown",
   "id": "7ec3d03d-acf5-439b-8cad-6af925c3ed4d",
   "metadata": {},
   "source": [
    "EJERCICIO 2"
   ]
  },
  {
   "cell_type": "code",
   "execution_count": 114,
   "id": "7f8a62ee-f3e3-44db-8d4b-89fd07023f57",
   "metadata": {},
   "outputs": [
    {
     "name": "stdout",
     "output_type": "stream",
     "text": [
      "+----------+-----+\n",
      "|CallDate  |count|\n",
      "+----------+-----+\n",
      "|01/01/2018|58   |\n",
      "+----------+-----+\n",
      "only showing top 1 row\n",
      "\n"
     ]
    }
   ],
   "source": [
    "highest_number_calls_2018 = firecalls_df.select(firecalls_df.CallDate)\\\n",
    ".where(firecalls_df.CallDate.like(\"%2018\"))\\\n",
    ".groupBy(firecalls_df.CallDate)\\\n",
    ".count()\\\n",
    ".orderBy(\"count\", ascending=False)\\\n",
    ".show(n=1, truncate=False)"
   ]
  },
  {
   "cell_type": "markdown",
   "id": "a4bfc219-6072-4d2d-aeba-8d92141a9c5f",
   "metadata": {},
   "source": [
    "EJERCICIO 3"
   ]
  },
  {
   "cell_type": "code",
   "execution_count": 115,
   "id": "627caef9-32bf-4c8d-ad9b-0901e99dfaf1",
   "metadata": {},
   "outputs": [
    {
     "name": "stdout",
     "output_type": "stream",
     "text": [
      "+------------+-----+\n",
      "|Neighborhood|count|\n",
      "+------------+-----+\n",
      "|Tenderloin  |15482|\n",
      "+------------+-----+\n",
      "only showing top 1 row\n",
      "\n"
     ]
    }
   ],
   "source": [
    "highest_number_calls_hood = firecalls_df.select(firecalls_df.Neighborhood)\\\n",
    " .where(firecalls_df.City == \"SF\")\\\n",
    " .groupBy(firecalls_df.Neighborhood)\\\n",
    " .count()\\\n",
    " .orderBy(\"count\", ascending=False)\\\n",
    " .show(n=1, truncate=False)"
   ]
  },
  {
   "cell_type": "markdown",
   "id": "af0ec0ac-7d41-4208-a324-e7e93dfd4433",
   "metadata": {},
   "source": [
    "EJERCICIO 4"
   ]
  },
  {
   "cell_type": "code",
   "execution_count": 110,
   "id": "f5c5821d-93a8-47d0-bfa3-f1ab5a267047",
   "metadata": {},
   "outputs": [
    {
     "name": "stdout",
     "output_type": "stream",
     "text": [
      "+---------------+-----------------+\n",
      "|   Neighborhood|       avg(Delay)|\n",
      "+---------------+-----------------+\n",
      "|Treasure Island|5.471499992963637|\n",
      "+---------------+-----------------+\n",
      "only showing top 1 row\n",
      "\n"
     ]
    }
   ],
   "source": [
    "worst_time = firecalls_df.groupBy(firecalls_df.Neighborhood)\\\n",
    ".agg(mean('Delay'))\\\n",
    ".orderBy(mean('Delay'), ascending=False)\\\n",
    ".show(n=1)"
   ]
  }
 ],
 "metadata": {
  "kernelspec": {
   "display_name": "Python 3 (ipykernel)",
   "language": "python",
   "name": "python3"
  },
  "language_info": {
   "codemirror_mode": {
    "name": "ipython",
    "version": 3
   },
   "file_extension": ".py",
   "mimetype": "text/x-python",
   "name": "python",
   "nbconvert_exporter": "python",
   "pygments_lexer": "ipython3",
   "version": "3.9.10"
  }
 },
 "nbformat": 4,
 "nbformat_minor": 5
}
