{
 "cells": [
  {
   "cell_type": "code",
   "execution_count": 1,
   "id": "e331830d-c145-4055-b031-93bc02f6b8c7",
   "metadata": {},
   "outputs": [
    {
     "data": {
      "text/plain": [
       "Intitializing Scala interpreter ..."
      ]
     },
     "metadata": {},
     "output_type": "display_data"
    },
    {
     "data": {
      "text/plain": [
       "Spark Web UI available at http://f5b7b299c78b:4041\n",
       "SparkContext available as 'sc' (version = 3.2.1, master = local[*], app id = local-1666220544835)\n",
       "SparkSession available as 'spark'\n"
      ]
     },
     "metadata": {},
     "output_type": "display_data"
    },
    {
     "data": {
      "text/plain": [
       "import org.apache.spark.sql.SparkSession\n",
       "import org.apache.spark.sql.functions._\n",
       "import org.apache.spark.SparkConf\n",
       "import org.apache.spark.sql.functions.{trim, ltrim, rtrim, col}\n"
      ]
     },
     "execution_count": 1,
     "metadata": {},
     "output_type": "execute_result"
    }
   ],
   "source": [
    "%scala\n",
    "import org.apache.spark.sql.SparkSession\n",
    "import org.apache.spark.sql.functions._\n",
    "import org.apache.spark.SparkConf\n",
    "import org.apache.spark.sql.functions.{trim,ltrim,rtrim,col}"
   ]
  },
  {
   "cell_type": "code",
   "execution_count": 4,
   "id": "62043baa-33f5-4b7c-b999-5dc89c4a4da2",
   "metadata": {},
   "outputs": [
    {
     "data": {
      "text/plain": [
       "spark: org.apache.spark.sql.SparkSession = org.apache.spark.sql.SparkSession@777a8a9a\n"
      ]
     },
     "execution_count": 4,
     "metadata": {},
     "output_type": "execute_result"
    }
   ],
   "source": [
    "val spark = SparkSession\n",
    " .builder\n",
    " .appName(\"Practica El Padron\")\n",
    " .enableHiveSupport()\n",
    " .getOrCreate()"
   ]
  },
  {
   "cell_type": "code",
   "execution_count": 5,
   "id": "ac5859ee-bef3-4102-88a3-596882c0fbdc",
   "metadata": {},
   "outputs": [
    {
     "data": {
      "text/plain": [
       "csvFile: String = Rango_Edades_Seccion_202209.csv\n",
       "dframe: org.apache.spark.sql.DataFrame = [COD_DISTRITO: int, DESC_DISTRITO: string ... 10 more fields]\n"
      ]
     },
     "execution_count": 5,
     "metadata": {},
     "output_type": "execute_result"
    }
   ],
   "source": [
    "val csvFile= \"Rango_Edades_Seccion_202209.csv\"\n",
    "\n",
    "var dframe = spark.read.format(\"csv\")\n",
    " .option(\"inferSchema\", \"true\")\n",
    " .option(\"header\", \"true\")\n",
    " .option(\"mode\", \"DROPMALFORMED\")\n",
    " .option(\"escapeQuotes\", \"true\")\n",
    " .option(\"delimiter\", \";\")\n",
    " .load(csvFile)\n",
    " .toDF()"
   ]
  },
  {
   "cell_type": "code",
   "execution_count": 6,
   "id": "29087722-b6aa-4795-b514-38dcb6ef2ff2",
   "metadata": {},
   "outputs": [
    {
     "data": {
      "text/plain": [
       "dframe: org.apache.spark.sql.DataFrame = [COD_DISTRITO: string, DESC_DISTRITO: string ... 10 more fields]\n"
      ]
     },
     "execution_count": 6,
     "metadata": {},
     "output_type": "execute_result"
    }
   ],
   "source": [
    "dframe = dframe.withColumn(\"COD_DISTRITO\",trim(col(\"COD_DISTRITO\")))\n",
    ".withColumn(\"COD_DIST_BARRIO\",trim(col(\"COD_DIST_BARRIO\")))\n",
    ".withColumn(\"DESC_DISTRITO\",trim(col(\"DESC_DISTRITO\")))\n",
    ".withColumn(\"DESC_BARRIO\",trim(col(\"DESC_BARRIO\")))\n",
    ".withColumn(\"COD_BARRIO\",trim(col(\"COD_BARRIO\")))\n",
    ".withColumn(\"COD_DIST_SECCION\",trim(col(\"COD_DIST_SECCION\")))\n",
    ".withColumn(\"COD_SECCION\",trim(col(\"COD_SECCION\")))\n",
    ".withColumn(\"COD_EDAD_INT\",trim(col(\"COD_EDAD_INT\")))\n",
    ".withColumn(\"EspanolesHombres\",trim(col(\"EspanolesHombres\")))\n",
    ".withColumn(\"EspanolesMujeres\",trim(col(\"EspanolesMujeres\")))\n",
    ".withColumn(\"ExtranjerosHombres\",trim(col(\"ExtranjerosHombres\")))\n",
    ".withColumn(\"ExtranjerosMujeres\",trim(col(\"ExtranjerosMujeres\")))"
   ]
  },
  {
   "cell_type": "code",
   "execution_count": 7,
   "id": "f5fc6146-8e42-4c26-8497-7362042cf2bf",
   "metadata": {},
   "outputs": [
    {
     "name": "stdout",
     "output_type": "stream",
     "text": [
      "+------------+-------------+---------------+-----------+----------+----------------+-----------+------------+----------------+----------------+------------------+------------------+\n",
      "|COD_DISTRITO|DESC_DISTRITO|COD_DIST_BARRIO|DESC_BARRIO|COD_BARRIO|COD_DIST_SECCION|COD_SECCION|COD_EDAD_INT|EspanolesHombres|EspanolesMujeres|ExtranjerosHombres|ExtranjerosMujeres|\n",
      "+------------+-------------+---------------+-----------+----------+----------------+-----------+------------+----------------+----------------+------------------+------------------+\n",
      "|           1|       CENTRO|            101|    PALACIO|         1|            1001|          1|           0|               1|               1|                 0|                 0|\n",
      "|           1|       CENTRO|            101|    PALACIO|         1|            1001|          1|           1|               3|               3|                 1|                 0|\n",
      "|           1|       CENTRO|            101|    PALACIO|         1|            1001|          1|           2|               5|               1|                 1|                 1|\n",
      "|           1|       CENTRO|            101|    PALACIO|         1|            1001|          1|           3|               3|               1|                 1|                 2|\n",
      "|           1|       CENTRO|            101|    PALACIO|         1|            1001|          1|           4|               3|               1|                 1|                 0|\n",
      "|           1|       CENTRO|            101|    PALACIO|         1|            1001|          1|           5|               0|               1|                 0|                 2|\n",
      "|           1|       CENTRO|            101|    PALACIO|         1|            1001|          1|           6|               2|               2|                 1|                 1|\n",
      "|           1|       CENTRO|            101|    PALACIO|         1|            1001|          1|           7|               1|               1|                 0|                 0|\n",
      "|           1|       CENTRO|            101|    PALACIO|         1|            1001|          1|           8|               2|               0|                 0|                 0|\n",
      "|           1|       CENTRO|            101|    PALACIO|         1|            1001|          1|           9|               1|               2|                 0|                 1|\n",
      "|           1|       CENTRO|            101|    PALACIO|         1|            1001|          1|          10|               3|               0|                 1|                 1|\n",
      "|           1|       CENTRO|            101|    PALACIO|         1|            1001|          1|          11|               4|               3|                 0|                 0|\n",
      "|           1|       CENTRO|            101|    PALACIO|         1|            1001|          1|          12|               3|               2|                 1|                 0|\n",
      "|           1|       CENTRO|            101|    PALACIO|         1|            1001|          1|          13|               3|               5|                 0|                 0|\n",
      "|           1|       CENTRO|            101|    PALACIO|         1|            1001|          1|          14|               3|               1|                 0|                 1|\n",
      "|           1|       CENTRO|            101|    PALACIO|         1|            1001|          1|          15|               0|               3|                 0|                 1|\n",
      "|           1|       CENTRO|            101|    PALACIO|         1|            1001|          1|          16|               7|               3|                 1|                 0|\n",
      "|           1|       CENTRO|            101|    PALACIO|         1|            1001|          1|          17|               2|               4|                 0|                 0|\n",
      "|           1|       CENTRO|            101|    PALACIO|         1|            1001|          1|          18|               1|               3|                 1|                 1|\n",
      "|           1|       CENTRO|            101|    PALACIO|         1|            1001|          1|          19|               5|               5|                 3|                 0|\n",
      "+------------+-------------+---------------+-----------+----------+----------------+-----------+------------+----------------+----------------+------------------+------------------+\n",
      "only showing top 20 rows\n",
      "\n"
     ]
    },
    {
     "data": {
      "text/plain": [
       "dframe: org.apache.spark.sql.DataFrame = [COD_DISTRITO: string, DESC_DISTRITO: string ... 10 more fields]\n"
      ]
     },
     "execution_count": 7,
     "metadata": {},
     "output_type": "execute_result"
    }
   ],
   "source": [
    "dframe = dframe.na.fill(\"0\",Array(\"ExtranjerosMujeres\"))\n",
    ".na.fill(\"0\",Array(\"ExtranjerosHombres\"))\n",
    ".na.fill(\"0\",Array(\"EspanolesMujeres\"))\n",
    ".na.fill(\"0\",Array(\"EspanolesHombres\"))\n",
    ".na.fill(\"0\",Array(\"COD_EDAD_INT\"))\n",
    ".na.fill(\"0\",Array(\"COD_SECCION\"))\n",
    ".na.fill(\"0\",Array(\"COD_DIST_SECCION\"))\n",
    ".na.fill(\"0\",Array(\"COD_BARRIO\"))\n",
    ".na.fill(\"0\",Array(\"DESC_BARRIO\"))\n",
    ".na.fill(\"0\",Array(\"COD_DIST_BARRIO\"))\n",
    ".na.fill(\"0\",Array(\"DESC_DISTRITO\"))\n",
    ".na.fill(\"0\",Array(\"COD_DISTRITO\"))\n",
    "\n",
    "dframe.show()"
   ]
  },
  {
   "cell_type": "code",
   "execution_count": 8,
   "id": "f1a9044a-3baa-481d-8506-6faad3970c43",
   "metadata": {},
   "outputs": [
    {
     "name": "stdout",
     "output_type": "stream",
     "text": [
      "+----------------------------+\n",
      "|Número de barrios diferentes|\n",
      "+----------------------------+\n",
      "|                          21|\n",
      "+----------------------------+\n",
      "\n"
     ]
    }
   ],
   "source": [
    "dframe.select(countDistinct(\"COD_DISTRITO\") as \"Número de barrios diferentes\").show()"
   ]
  },
  {
   "cell_type": "code",
   "execution_count": 9,
   "id": "d1bfdefe-6fcd-46cd-91a0-4b9969ea0098",
   "metadata": {},
   "outputs": [
    {
     "name": "stdout",
     "output_type": "stream",
     "text": [
      "+----------------------------+\n",
      "|count(DISTINCT COD_DISTRITO)|\n",
      "+----------------------------+\n",
      "|                          21|\n",
      "+----------------------------+\n",
      "\n"
     ]
    },
    {
     "data": {
      "text/plain": [
       "tempView: Unit = ()\n"
      ]
     },
     "execution_count": 9,
     "metadata": {},
     "output_type": "execute_result"
    }
   ],
   "source": [
    "var tempView = dframe.createOrReplaceTempView(\"Padron\")\n",
    "spark.sql(\"select COUNT(DISTINCT COD_DISTRITO) from Padron\").show()"
   ]
  },
  {
   "cell_type": "code",
   "execution_count": 10,
   "id": "127da423-b4ed-4273-8f5c-251d2a8839c5",
   "metadata": {},
   "outputs": [
    {
     "name": "stdout",
     "output_type": "stream",
     "text": [
      "+-------------------+--------+\n",
      "|      DESC_DISTRITO|Longitud|\n",
      "+-------------------+--------+\n",
      "|             LATINA|       6|\n",
      "|             TETUAN|       6|\n",
      "|          SALAMANCA|       9|\n",
      "|             RETIRO|       6|\n",
      "|    MONCLOA-ARAVACA|      15|\n",
      "|          HORTALEZA|       9|\n",
      "| PUENTE DE VALLECAS|      18|\n",
      "|         VILLAVERDE|      10|\n",
      "|           CHAMBERI|       8|\n",
      "|      CIUDAD LINEAL|      13|\n",
      "|SAN BLAS-CANILLEJAS|      19|\n",
      "|          VICALVARO|       9|\n",
      "|        CARABANCHEL|      11|\n",
      "|             CENTRO|       6|\n",
      "|          CHAMARTIN|       9|\n",
      "|          MORATALAZ|       9|\n",
      "|FUENCARRAL-EL PARDO|      19|\n",
      "|         ARGANZUELA|      10|\n",
      "|              USERA|       5|\n",
      "|  VILLA DE VALLECAS|      17|\n",
      "+-------------------+--------+\n",
      "only showing top 20 rows\n",
      "\n"
     ]
    }
   ],
   "source": [
    "dframe.select(\"DESC_DISTRITO\")\n",
    ".groupBy(\"DESC_DISTRITO\")\n",
    ".agg(length($\"DESC_DISTRITO\").alias(\"Longitud\")).show()"
   ]
  },
  {
   "cell_type": "code",
   "execution_count": 11,
   "id": "ee12813a-0759-48df-bc52-4092aa5c297a",
   "metadata": {},
   "outputs": [
    {
     "data": {
      "text/plain": [
       "partition_dframe: org.apache.spark.sql.DataFrameWriter[org.apache.spark.sql.Row] = org.apache.spark.sql.DataFrameWriter@58995ad8\n",
       "res5: Int = 6\n"
      ]
     },
     "execution_count": 11,
     "metadata": {},
     "output_type": "execute_result"
    }
   ],
   "source": [
    "val partition_dframe = dframe.write.partitionBy(\"DESC_DISTRITO\",\"DESC_BARRIO\")\n",
    "dframe.rdd.partitions.size"
   ]
  },
  {
   "cell_type": "code",
   "execution_count": 12,
   "id": "afadfc2c-7643-4439-abd1-1aa9faa1e279",
   "metadata": {},
   "outputs": [
    {
     "data": {
      "text/plain": [
       "res6: org.apache.spark.sql.Dataset[org.apache.spark.sql.Row] = [COD_DISTRITO: string, DESC_DISTRITO: string ... 10 more fields]\n"
      ]
     },
     "execution_count": 12,
     "metadata": {},
     "output_type": "execute_result"
    }
   ],
   "source": [
    "dframe.cache()"
   ]
  },
  {
   "cell_type": "code",
   "execution_count": 13,
   "id": "f9bad639-3d99-40e2-b8c3-2c733155d677",
   "metadata": {},
   "outputs": [
    {
     "name": "stdout",
     "output_type": "stream",
     "text": [
      "+--------------------+-------------------+----------------+----------------+------------------+------------------+\n",
      "|         DESC_BARRIO|      DESC_DISTRITO|EspanolesHombres|EspanolesMujeres|ExtranjerosHombres|ExtranjerosMujeres|\n",
      "+--------------------+-------------------+----------------+----------------+------------------+------------------+\n",
      "|           SAN DIEGO| PUENTE DE VALLECAS|         13960.0|         15692.0|            7477.0|            7700.0|\n",
      "|              ALUCHE|             LATINA|         24734.0|         29534.0|            5856.0|            6801.0|\n",
      "|        PUEBLO NUEVO|      CIUDAD LINEAL|         23044.0|         27100.0|            5980.0|            6793.0|\n",
      "|        VISTA ALEGRE|        CARABANCHEL|         15818.0|         19307.0|            6000.0|            6648.0|\n",
      "|            NUMANCIA| PUENTE DE VALLECAS|         16960.0|         19250.0|            6036.0|            6269.0|\n",
      "|         EMBAJADORES|             CENTRO|         16266.0|         16138.0|            8040.0|            6014.0|\n",
      "|VILLAVERDE ALTO C.H.|         VILLAVERDE|         17094.0|         19075.0|            5652.0|            5830.0|\n",
      "|              VENTAS|      CIUDAD LINEAL|         17988.0|         21799.0|            4445.0|            5260.0|\n",
      "|    PUERTA DEL ANGEL|             LATINA|         15169.0|         17704.0|            4542.0|            5135.0|\n",
      "|       PUERTA BONITA|        CARABANCHEL|         12459.0|         14232.0|            4837.0|            5125.0|\n",
      "|            VALVERDE|FUENCARRAL-EL PARDO|         26802.0|         29054.0|            4095.0|            4900.0|\n",
      "|          SAN ISIDRO|        CARABANCHEL|         14474.0|         16477.0|            4443.0|            4840.0|\n",
      "|              OPA�EL|        CARABANCHEL|         11578.0|         13973.0|            4051.0|            4372.0|\n",
      "|        VALDEFUENTES|          HORTALEZA|         30129.0|         30655.0|            3426.0|            4305.0|\n",
      "|         UNIVERSIDAD|             CENTRO|         12163.0|         12278.0|            4199.0|            4284.0|\n",
      "|         LOS ROSALES|         VILLAVERDE|         14026.0|         15500.0|            4093.0|            4181.0|\n",
      "|       BELLAS VISTAS|             TETUAN|         10174.0|         11874.0|            3337.0|            4165.0|\n",
      "|          BUENAVISTA|        CARABANCHEL|         19879.0|         21134.0|            3785.0|            4093.0|\n",
      "|   CASCO H.VICALVARO|          VICALVARO|         13241.0|         14437.0|            3881.0|            4066.0|\n",
      "|            ABRANTES|        CARABANCHEL|         11120.0|         12965.0|            3666.0|            4049.0|\n",
      "+--------------------+-------------------+----------------+----------------+------------------+------------------+\n",
      "only showing top 20 rows\n",
      "\n"
     ]
    }
   ],
   "source": [
    "dframe.groupBy(\"DESC_BARRIO\",\"DESC_DISTRITO\")\n",
    ".agg(sum(\"EspanolesHombres\").as(\"EspanolesHombres\"),\n",
    "    sum(\"EspanolesMujeres\").as(\"EspanolesMujeres\"),\n",
    "    sum(\"ExtranjerosHombres\").as(\"ExtranjerosHombres\"),\n",
    "    sum(\"ExtranjerosMujeres\").as(\"ExtranjerosMujeres\"),\n",
    "    )\n",
    ".orderBy(desc(\"ExtranjerosMujeres\"))\n",
    ".show()"
   ]
  },
  {
   "cell_type": "code",
   "execution_count": 14,
   "id": "fd107419-9cf1-475a-9c78-25e40bd798a1",
   "metadata": {},
   "outputs": [
    {
     "data": {
      "text/plain": [
       "res8: org.apache.spark.sql.Dataset[org.apache.spark.sql.Row] = [COD_DISTRITO: string, DESC_DISTRITO: string ... 10 more fields]\n"
      ]
     },
     "execution_count": 14,
     "metadata": {},
     "output_type": "execute_result"
    }
   ],
   "source": [
    "dframe.unpersist()"
   ]
  },
  {
   "cell_type": "code",
   "execution_count": 16,
   "id": "7ccffc6b-49e1-4b6d-8302-6068c49b2b6d",
   "metadata": {},
   "outputs": [
    {
     "data": {
      "text/plain": [
       "import org.apache.spark.sql.expressions.Window\n",
       "windowSpec: org.apache.spark.sql.expressions.WindowSpec = org.apache.spark.sql.expressions.WindowSpec@4f4deea6\n"
      ]
     },
     "execution_count": 16,
     "metadata": {},
     "output_type": "execute_result"
    }
   ],
   "source": [
    "import org.apache.spark.sql.expressions.Window\n",
    "val windowSpec  = Window.partitionBy(\"DESC_BARRIO\",\"DESC_DISTRITO\").orderBy(\"EspanolesHombres\")"
   ]
  },
  {
   "cell_type": "code",
   "execution_count": 29,
   "id": "e8e8c95b-904e-4331-8776-01b45a2a5b0d",
   "metadata": {},
   "outputs": [
    {
     "name": "stdout",
     "output_type": "stream",
     "text": [
      "+------------+-------+------+------+\n",
      "|COD_EDAD_INT|BARAJAS|CENTRO|RETIRO|\n",
      "+------------+-------+------+------+\n",
      "|          51|  439.0| 791.0| 811.0|\n",
      "|           7|  218.0| 239.0| 475.0|\n",
      "|          15|  270.0| 243.0| 401.0|\n",
      "|          54|  346.0| 766.0| 797.0|\n",
      "|         101|    7.0|  24.0|  17.0|\n",
      "|          11|  261.0| 246.0| 425.0|\n",
      "|          69|  246.0| 532.0| 836.0|\n",
      "|          29|  179.0| 834.0| 657.0|\n",
      "|          42|  353.0| 794.0| 704.0|\n",
      "|         112|   null|   1.0|  null|\n",
      "|          87|  107.0| 328.0| 470.0|\n",
      "|          73|  284.0| 488.0| 829.0|\n",
      "|          64|  212.0| 754.0| 838.0|\n",
      "|           3|  165.0| 215.0| 363.0|\n",
      "|          30|  200.0| 902.0| 623.0|\n",
      "|         113|   null|  null|   1.0|\n",
      "|          34|  215.0| 831.0| 569.0|\n",
      "|          59|  309.0| 715.0| 861.0|\n",
      "|           8|  228.0| 227.0| 400.0|\n",
      "|          28|  156.0| 801.0| 560.0|\n",
      "+------------+-------+------+------+\n",
      "only showing top 20 rows\n",
      "\n"
     ]
    },
    {
     "data": {
      "text/plain": [
       "pivotDF: Unit = ()\n"
      ]
     },
     "execution_count": 29,
     "metadata": {},
     "output_type": "execute_result"
    }
   ],
   "source": [
    "val pivotDF = dframe.filter(dframe(\"DESC_DISTRITO\") === \"BARAJAS\" or dframe(\"DESC_DISTRITO\") === \"CENTRO\" or dframe(\"DESC_DISTRITO\") === \"RETIRO\")\n",
    ".groupBy(\"COD_EDAD_INT\").pivot(\"DESC_DISTRITO\").agg(sum(\"EspanolesMujeres\"))\n",
    ".show()"
   ]
  },
  {
   "cell_type": "code",
   "execution_count": 22,
   "id": "8b2e043d-38f4-4cea-8ddb-0c92621f0466",
   "metadata": {},
   "outputs": [],
   "source": [
    "dframe.write.option(\"header\",true)\n",
    "        .partitionBy(\"DESC_DISTRITO\",\"DESC_BARRIO\")\n",
    "        .mode(\"overwrite\")\n",
    "        .csv(\"Prueba\")"
   ]
  },
  {
   "cell_type": "code",
   "execution_count": 23,
   "id": "600ce56a-f61e-4960-afdf-d9b31e75914c",
   "metadata": {},
   "outputs": [],
   "source": [
    "dframe.write.option(\"header\",true)\n",
    "        .partitionBy(\"DESC_DISTRITO\",\"DESC_BARRIO\")\n",
    "        .mode(\"overwrite\")\n",
    "        .parquet(\"PruebaParquet\")"
   ]
  },
  {
   "cell_type": "code",
   "execution_count": 24,
   "id": "7992b96f-8d4a-4f51-9d5f-c3d488eb0c1f",
   "metadata": {},
   "outputs": [
    {
     "ename": "org.apache.spark.sql.AnalysisException",
     "evalue": " Hive support is required to CREATE Hive TABLE (AS SELECT);",
     "output_type": "error",
     "traceback": [
      "org.apache.spark.sql.AnalysisException: Hive support is required to CREATE Hive TABLE (AS SELECT);",
      "'CreateTable `default`.`DatosPadron`, org.apache.hadoop.hive.serde2.lazy.LazySimpleSerDe, Ignore",
      "",
      "  at org.apache.spark.sql.errors.QueryCompilationErrors$.ddlWithoutHiveSupportEnabledError(QueryCompilationErrors.scala:1270)",
      "  at org.apache.spark.sql.execution.datasources.HiveOnlyCheck$.$anonfun$apply$4(rules.scala:438)",
      "  at org.apache.spark.sql.execution.datasources.HiveOnlyCheck$.$anonfun$apply$4$adapted(rules.scala:435)",
      "  at org.apache.spark.sql.catalyst.trees.TreeNode.foreach(TreeNode.scala:253)",
      "  at org.apache.spark.sql.execution.datasources.HiveOnlyCheck$.apply(rules.scala:435)",
      "  at org.apache.spark.sql.execution.datasources.HiveOnlyCheck$.apply(rules.scala:433)",
      "  at org.apache.spark.sql.catalyst.analysis.CheckAnalysis.$anonfun$checkAnalysis$37(CheckAnalysis.scala:550)",
      "  at org.apache.spark.sql.catalyst.analysis.CheckAnalysis.$anonfun$checkAnalysis$37$adapted(CheckAnalysis.scala:550)",
      "  at scala.collection.mutable.ResizableArray.foreach(ResizableArray.scala:62)",
      "  at scala.collection.mutable.ResizableArray.foreach$(ResizableArray.scala:55)",
      "  at scala.collection.mutable.ArrayBuffer.foreach(ArrayBuffer.scala:49)",
      "  at org.apache.spark.sql.catalyst.analysis.CheckAnalysis.checkAnalysis(CheckAnalysis.scala:550)",
      "  at org.apache.spark.sql.catalyst.analysis.CheckAnalysis.checkAnalysis$(CheckAnalysis.scala:91)",
      "  at org.apache.spark.sql.catalyst.analysis.Analyzer.checkAnalysis(Analyzer.scala:182)",
      "  at org.apache.spark.sql.catalyst.analysis.Analyzer.$anonfun$executeAndCheck$1(Analyzer.scala:205)",
      "  at org.apache.spark.sql.catalyst.plans.logical.AnalysisHelper$.markInAnalyzer(AnalysisHelper.scala:330)",
      "  at org.apache.spark.sql.catalyst.analysis.Analyzer.executeAndCheck(Analyzer.scala:202)",
      "  at org.apache.spark.sql.execution.QueryExecution.$anonfun$analyzed$1(QueryExecution.scala:88)",
      "  at org.apache.spark.sql.catalyst.QueryPlanningTracker.measurePhase(QueryPlanningTracker.scala:111)",
      "  at org.apache.spark.sql.execution.QueryExecution.$anonfun$executePhase$1(QueryExecution.scala:196)",
      "  at org.apache.spark.sql.SparkSession.withActive(SparkSession.scala:775)",
      "  at org.apache.spark.sql.execution.QueryExecution.executePhase(QueryExecution.scala:196)",
      "  at org.apache.spark.sql.execution.QueryExecution.analyzed$lzycompute(QueryExecution.scala:88)",
      "  at org.apache.spark.sql.execution.QueryExecution.analyzed(QueryExecution.scala:86)",
      "  at org.apache.spark.sql.execution.QueryExecution.assertAnalyzed(QueryExecution.scala:78)",
      "  at org.apache.spark.sql.Dataset$.$anonfun$ofRows$2(Dataset.scala:98)",
      "  at org.apache.spark.sql.SparkSession.withActive(SparkSession.scala:775)",
      "  at org.apache.spark.sql.Dataset$.ofRows(Dataset.scala:96)",
      "  at org.apache.spark.sql.SparkSession.$anonfun$sql$1(SparkSession.scala:618)",
      "  at org.apache.spark.sql.SparkSession.withActive(SparkSession.scala:775)",
      "  at org.apache.spark.sql.SparkSession.sql(SparkSession.scala:613)",
      "  ... 40 elided",
      ""
     ]
    }
   ],
   "source": [
    "//spark.sql(\"use default\")\n",
    "//spark.sql(\"SET hive.exec.dynamic.partition = true\")\n",
    "//spark.sql(\"create table if not exists default.DatosPadron(COD_DISTRITO String, DESC_DISTRITO String, COD_DIST_BARRIO String)\")\n",
    "//spark.sql(\"describe formatted default.DatosPadron\")"
   ]
  },
  {
   "cell_type": "code",
   "execution_count": null,
   "id": "b66a154a-ca8d-4877-8016-f6fdf0adb36b",
   "metadata": {},
   "outputs": [],
   "source": []
  }
 ],
 "metadata": {
  "kernelspec": {
   "display_name": "spylon-kernel",
   "language": "scala",
   "name": "spylon-kernel"
  },
  "language_info": {
   "codemirror_mode": "text/x-scala",
   "file_extension": ".scala",
   "help_links": [
    {
     "text": "MetaKernel Magics",
     "url": "https://metakernel.readthedocs.io/en/latest/source/README.html"
    }
   ],
   "mimetype": "text/x-scala",
   "name": "scala",
   "pygments_lexer": "scala",
   "version": "0.4.1"
  }
 },
 "nbformat": 4,
 "nbformat_minor": 5
}
