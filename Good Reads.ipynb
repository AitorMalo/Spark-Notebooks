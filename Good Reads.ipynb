{
 "cells": [
  {
   "cell_type": "code",
   "execution_count": 89,
   "id": "335910e9-1838-4297-9253-a881b2374146",
   "metadata": {},
   "outputs": [],
   "source": [
    "from pyspark.sql import SparkSession\n",
    "from pyspark.sql.functions import *\n",
    "from pyspark.sql.types import *\n",
    "from pyspark.sql.window import Window\n",
    "from pyspark.sql import DataFrameWriter\n",
    "import os"
   ]
  },
  {
   "cell_type": "code",
   "execution_count": 90,
   "id": "f7f688e6-7c5e-4965-9770-b8b15641fc99",
   "metadata": {},
   "outputs": [],
   "source": [
    "spark = SparkSession.builder\\\n",
    ".appName(\"Good Reads\")\\\n",
    ".getOrCreate()"
   ]
  },
  {
   "cell_type": "markdown",
   "id": "daff5c6e-42d4-4f30-91b3-14c7c7d847cd",
   "metadata": {},
   "source": [
    "Crear el esquema del dataframe único formado por la unión de todos los dataframes."
   ]
  },
  {
   "cell_type": "code",
   "execution_count": 91,
   "id": "b5a05367-8d3b-443d-8e7b-afeb0e3ea0bd",
   "metadata": {},
   "outputs": [],
   "source": [
    "schema = StructType([StructField(\"Id\", IntegerType(), False),\n",
    "                          StructField(\"Name\", StringType(), True),\n",
    "                          StructField(\"Authors\", StringType(), True),\n",
    "                          StructField(\"PagesNumber\", IntegerType(), True),\n",
    "                          StructField(\"RatingDist1\", StringType(), True),\n",
    "                          StructField(\"RatingDist2\", StringType(), True),\n",
    "                          StructField(\"RatingDist3\", StringType(), True),\n",
    "                          StructField(\"RatingDist4\", StringType(), True),\n",
    "                          StructField(\"RatingDist5\", StringType(), True),\n",
    "                          StructField(\"RatingDistTotal\", StringType(), True),\n",
    "                          StructField(\"PublishDay\", StringType(), True),\n",
    "                          StructField(\"PublishMonth\", StringType(), True),\n",
    "                          StructField(\"PublishYear\", StringType(), True),\n",
    "                          StructField(\"Publisher\", StringType(), True),\n",
    "                          StructField(\"CountsOfReview\", IntegerType(), True),\n",
    "                          StructField(\"Language\", StringType(), True),\n",
    "                          StructField(\"Rating\", DoubleType(), True),\n",
    "                          StructField(\"ISBN\", StringType(), True)])"
   ]
  },
  {
   "cell_type": "markdown",
   "id": "78996b7d-3707-4535-bc7a-93d7e991c221",
   "metadata": {},
   "source": [
    "Cargar en una lista de dataframes todos los archivos .csv del directorio books"
   ]
  },
  {
   "cell_type": "code",
   "execution_count": 92,
   "id": "f424f855-53c3-4298-89e5-7f26b6d4b0aa",
   "metadata": {},
   "outputs": [],
   "source": [
    "path = 'books'\n",
    "booklist = list()\n",
    "dataframelist = list()\n",
    "\n",
    "for file in os.listdir(path):\n",
    "    booklist.append(file)\n",
    "    \n",
    "for book in booklist:\n",
    "    dataframelist.append(\n",
    "     spark.read.format(\"csv\")\n",
    "            .option(\"header\", \"true\")\n",
    "            .option(\"quote\", \"\\\"\")\n",
    "            .option(\"escape\", \"\\\"\")\n",
    "            .option(\"ignoreLeadingWhiteSpace\", \"true\")\n",
    "            .option(\"ignoreTrailingWhiteSpace\", \"true\")\n",
    "            .option(\"multiLine\", \"true\")\n",
    "            .load(\"books/\"+ book)\n",
    "    )"
   ]
  },
  {
   "cell_type": "markdown",
   "id": "108b967b-a2d2-4c6d-a11a-57b1d6249489",
   "metadata": {},
   "source": [
    "Crear dataframe vacío con el esquema definido anteriormente"
   ]
  },
  {
   "cell_type": "code",
   "execution_count": 93,
   "id": "d0c90267-8bc9-4e1f-b5a6-12e4dbef0c6d",
   "metadata": {},
   "outputs": [],
   "source": [
    "dataframe = spark.createDataFrame(spark.sparkContext.emptyRDD(), schema)"
   ]
  },
  {
   "cell_type": "code",
   "execution_count": 94,
   "id": "c750f77a-0e32-42dd-9ba5-2a0af46f691a",
   "metadata": {},
   "outputs": [],
   "source": [
    "for dframe in dataframelist:\n",
    "    dataframe =  dataframe.unionByName(dframe, allowMissingColumns = True)"
   ]
  },
  {
   "cell_type": "markdown",
   "id": "27dddac5-3d8c-47d5-8219-5bcf8beab4a3",
   "metadata": {},
   "source": [
    "EJERCICIO 1"
   ]
  },
  {
   "cell_type": "code",
   "execution_count": 95,
   "id": "4eff3620-62bc-407f-88e6-d92bcacfe58d",
   "metadata": {},
   "outputs": [
    {
     "name": "stdout",
     "output_type": "stream",
     "text": [
      "+-----------------+\n",
      "|  Rating promedio|\n",
      "+-----------------+\n",
      "|2.910691632055565|\n",
      "+-----------------+\n",
      "\n"
     ]
    }
   ],
   "source": [
    "dataframe.agg(mean(\"Rating\").alias(\"Rating promedio\")).show()"
   ]
  },
  {
   "cell_type": "markdown",
   "id": "7da2cc78-2153-4c77-9c74-73b6b9aed3f2",
   "metadata": {},
   "source": [
    "EJERCICIO 2 "
   ]
  },
  {
   "cell_type": "code",
   "execution_count": 96,
   "id": "fc524e0b-aaef-4456-8e48-a08d5e9e3c33",
   "metadata": {},
   "outputs": [
    {
     "name": "stdout",
     "output_type": "stream",
     "text": [
      "+--------------------+------------------+\n",
      "|             Authors|   Rating promedio|\n",
      "+--------------------+------------------+\n",
      "|Michael Eliot Howard|3.8511538461538466|\n",
      "|           Neal Ford|              3.37|\n",
      "|       Rachel Andrew|              3.13|\n",
      "|          James Frey|3.7236363636363636|\n",
      "|         Bill Bright|3.4657894736842105|\n",
      "|     Eric Klinenberg|              3.63|\n",
      "|     Karen Armstrong|3.9357627118644074|\n",
      "|          Dava Sobel|            3.7875|\n",
      "|        Richard King|3.3862499999999995|\n",
      "|        Joseph Monti|               4.0|\n",
      "|        Philip Hofer|              1.75|\n",
      "|         Ann Beattie| 3.473421052631579|\n",
      "|          Jack Ahern|               2.5|\n",
      "|        Steve Kokker|               3.9|\n",
      "|        Diane Conway|              3.04|\n",
      "|       Julian Harvey|               0.0|\n",
      "|     Thomas S. Mowle|1.3333333333333333|\n",
      "|        Helena Grice|            4.1325|\n",
      "|        Sarah Leslie| 4.066666666666666|\n",
      "|     Richard T. Ryan|              4.07|\n",
      "+--------------------+------------------+\n",
      "only showing top 20 rows\n",
      "\n"
     ]
    }
   ],
   "source": [
    "dataframe.groupBy(\"Authors\").agg(mean(\"Rating\").alias(\"Rating promedio\")).show()"
   ]
  },
  {
   "cell_type": "markdown",
   "id": "36b24913-0944-4259-a7b7-0c98ff98845a",
   "metadata": {},
   "source": [
    "EJERCICIO 3"
   ]
  },
  {
   "cell_type": "code",
   "execution_count": 97,
   "id": "738c503c-0b14-45b8-8818-91d273017a51",
   "metadata": {},
   "outputs": [
    {
     "name": "stdout",
     "output_type": "stream",
     "text": [
      "+--------------------+------------------+\n",
      "|           Publisher|   Rating promedio|\n",
      "+--------------------+------------------+\n",
      "|       The New Press| 3.766389891696751|\n",
      "|        Chosen Books| 3.778565573770492|\n",
      "|            Capstone|2.6408407079646015|\n",
      "|      Celestial Arts|3.3293503937007873|\n",
      "|        Lorenz Books| 3.000905923344948|\n",
      "|Gerald Duckworth ...|2.7852499999999996|\n",
      "|                 DAW|3.7503158933859826|\n",
      "|       Digireads.com|3.8898404255319154|\n",
      "|John Benjamins Pu...|1.5163268062120192|\n",
      "|           IVP Books|3.7881268011527385|\n",
      "|               Ember| 3.751428571428572|\n",
      "|Triumph Entertain...|2.5866666666666664|\n",
      "| Orange Frazer Press|2.8805479452054796|\n",
      "|       No Exit Press|              3.75|\n",
      "|Chicago Review Press|3.3994816053511703|\n",
      "|     Dance Books Ltd|         2.5921875|\n",
      "| Harvard Art Museums|2.6578947368421053|\n",
      "|                 HQN|3.8506956521739126|\n",
      "|Arcadia Publishin...| 3.159514348785872|\n",
      "|Hachette Littérature| 3.545315315315315|\n",
      "+--------------------+------------------+\n",
      "only showing top 20 rows\n",
      "\n"
     ]
    }
   ],
   "source": [
    "dataframe.groupBy(\"Publisher\").agg(mean(\"Rating\").alias(\"Rating promedio\")).show()"
   ]
  },
  {
   "cell_type": "markdown",
   "id": "ca5ddd1a-b8c6-450d-af10-8b4a61106c15",
   "metadata": {},
   "source": [
    "EJERCICIO 4"
   ]
  },
  {
   "cell_type": "code",
   "execution_count": 98,
   "id": "176b6a9c-3559-4314-bfcf-b14d97a37eed",
   "metadata": {},
   "outputs": [
    {
     "name": "stdout",
     "output_type": "stream",
     "text": [
      "+----------------------------------------------+\n",
      "|Numero de páginas promedio de todos los libros|\n",
      "+----------------------------------------------+\n",
      "|                             277.0461801593246|\n",
      "+----------------------------------------------+\n",
      "\n"
     ]
    }
   ],
   "source": [
    "dataframe.agg(mean(\"PagesNumber\").alias(\"Numero de páginas promedio de todos los libros\")).show()"
   ]
  },
  {
   "cell_type": "markdown",
   "id": "9a1f3f68-538f-42fc-bd2b-7d5fc766aec3",
   "metadata": {},
   "source": [
    "EJERCICIO 5"
   ]
  },
  {
   "cell_type": "code",
   "execution_count": 66,
   "id": "18b8af4a-aeee-4ba2-b98d-c3076ad93f09",
   "metadata": {},
   "outputs": [
    {
     "name": "stdout",
     "output_type": "stream",
     "text": [
      "+--------------------+----------------------------------------------+\n",
      "|             Authors|Numero de páginas promedio de todos los libros|\n",
      "+--------------------+----------------------------------------------+\n",
      "|Michael Eliot Howard|                            224.57692307692307|\n",
      "|           Neal Ford|                                         339.0|\n",
      "|       Rachel Andrew|                            407.72727272727275|\n",
      "|          James Frey|                            441.09090909090907|\n",
      "|         Bill Bright|                            278.39622641509436|\n",
      "|     Eric Klinenberg|                                         309.0|\n",
      "|     Karen Armstrong|                             330.6896551724138|\n",
      "|          Dava Sobel|                            254.40740740740742|\n",
      "|        Richard King|                                       309.125|\n",
      "|        Joseph Monti|                                         365.0|\n",
      "|        Philip Hofer|                                         115.0|\n",
      "|         Ann Beattie|                            254.23684210526315|\n",
      "|          Jack Ahern|                                         128.0|\n",
      "|        Steve Kokker|                                         408.0|\n",
      "|        Diane Conway|                            153.33333333333334|\n",
      "|       Julian Harvey|                                         666.0|\n",
      "|     Thomas S. Mowle|                                         236.0|\n",
      "|        Helena Grice|                                         186.0|\n",
      "|        Sarah Leslie|                                          20.0|\n",
      "|     Richard T. Ryan|                                         185.0|\n",
      "+--------------------+----------------------------------------------+\n",
      "only showing top 20 rows\n",
      "\n"
     ]
    }
   ],
   "source": [
    "dataframe.groupBy(\"Authors\").agg(mean(\"PagesNumber\").alias(\"Numero de páginas promedio de todos los libros\")).show()"
   ]
  },
  {
   "cell_type": "markdown",
   "id": "f29cbb58-a072-4428-8488-72999379d113",
   "metadata": {},
   "source": [
    "EJERCICIO 6"
   ]
  },
  {
   "cell_type": "code",
   "execution_count": 99,
   "id": "64bd9cb1-30f2-40ae-86c8-8b919ad1a467",
   "metadata": {},
   "outputs": [
    {
     "name": "stdout",
     "output_type": "stream",
     "text": [
      "+--------------------+----------------------------------------------+\n",
      "|           Publisher|Numero de páginas promedio de todos los libros|\n",
      "+--------------------+----------------------------------------------+\n",
      "|       The New Press|                             290.4241877256318|\n",
      "|        Chosen Books|                            219.05327868852459|\n",
      "|            Capstone|                            155.35398230088495|\n",
      "|      Celestial Arts|                            194.23818897637796|\n",
      "|        Lorenz Books|                             205.3472706155633|\n",
      "|Gerald Duckworth ...|                            249.83333333333334|\n",
      "|                 DAW|                            357.09674234945703|\n",
      "|       Digireads.com|                            144.15425531914894|\n",
      "|John Benjamins Pu...|                            325.10195813639433|\n",
      "|           IVP Books|                            193.17867435158502|\n",
      "|               Ember|                                         305.2|\n",
      "|Triumph Entertain...|                            117.33333333333333|\n",
      "| Orange Frazer Press|                            235.23287671232876|\n",
      "|       No Exit Press|                            346.27272727272725|\n",
      "|Chicago Review Press|                             259.4113712374582|\n",
      "|     Dance Books Ltd|                                     212.03125|\n",
      "| Harvard Art Museums|                            207.47368421052633|\n",
      "|                 HQN|                             373.5739130434783|\n",
      "|Arcadia Publishin...|                            129.55555555555554|\n",
      "|Hachette Littérature|                            232.05405405405406|\n",
      "+--------------------+----------------------------------------------+\n",
      "only showing top 20 rows\n",
      "\n"
     ]
    }
   ],
   "source": [
    "dataframe.groupBy(\"Publisher\").agg(mean(\"PagesNumber\").alias(\"Numero de páginas promedio de todos los libros\")).show()"
   ]
  },
  {
   "cell_type": "markdown",
   "id": "27edbec7-33ff-4a68-a46c-1cd2d6ceda78",
   "metadata": {},
   "source": [
    "EJERCICIO 7"
   ]
  },
  {
   "cell_type": "code",
   "execution_count": 70,
   "id": "865032cb-f51d-4cd7-87f5-59a53109ec29",
   "metadata": {},
   "outputs": [
    {
     "name": "stdout",
     "output_type": "stream",
     "text": [
      "+--------------------+---------------------------+\n",
      "|             Authors|Número de libros publicados|\n",
      "+--------------------+---------------------------+\n",
      "|Michael Eliot Howard|                         26|\n",
      "|           Neal Ford|                          4|\n",
      "|       Rachel Andrew|                         11|\n",
      "|          James Frey|                         11|\n",
      "|         Bill Bright|                         53|\n",
      "|     Eric Klinenberg|                          4|\n",
      "|     Karen Armstrong|                         58|\n",
      "|          Dava Sobel|                         27|\n",
      "|        Richard King|                          8|\n",
      "|        Joseph Monti|                          1|\n",
      "|        Philip Hofer|                          2|\n",
      "|         Ann Beattie|                         38|\n",
      "|          Jack Ahern|                          1|\n",
      "|        Steve Kokker|                          3|\n",
      "|        Diane Conway|                          3|\n",
      "|       Julian Harvey|                          1|\n",
      "|     Thomas S. Mowle|                          3|\n",
      "|        Helena Grice|                          4|\n",
      "|        Sarah Leslie|                          3|\n",
      "|     Richard T. Ryan|                          1|\n",
      "+--------------------+---------------------------+\n",
      "only showing top 20 rows\n",
      "\n"
     ]
    }
   ],
   "source": [
    "dataframe.groupBy(\"Authors\").agg(count(\"Id\").alias(\"Número de libros publicados\")).show()"
   ]
  },
  {
   "cell_type": "markdown",
   "id": "852fda62-4bba-4afe-859e-1d2109a84b06",
   "metadata": {},
   "source": [
    "EJERCICIO 8"
   ]
  },
  {
   "cell_type": "code",
   "execution_count": 88,
   "id": "f269b51d-76ca-447f-b04a-16525cd32514",
   "metadata": {},
   "outputs": [
    {
     "name": "stdout",
     "output_type": "stream",
     "text": [
      "+--------------------+---------------+\n",
      "|                Name|         Rating|\n",
      "+--------------------+---------------+\n",
      "|The Da Vinci Code...|really liked it|\n",
      "| Memoirs of a Geisha|really liked it|\n",
      "|The Da Vinci Code...|really liked it|\n",
      "|The Da Vinci Code...|really liked it|\n",
      "|The Da Vinci Code...|really liked it|\n",
      "|     Of Mice and Men|really liked it|\n",
      "|The Da Vinci Code...|really liked it|\n",
      "|     Of Mice and Men|really liked it|\n",
      "|The Da Vinci Code...|really liked it|\n",
      "|     Of Mice and Men|really liked it|\n",
      "|The Da Vinci Code...|really liked it|\n",
      "|The Da Vinci Code...|really liked it|\n",
      "| Memoirs of a Geisha|really liked it|\n",
      "|The Da Vinci Code...|really liked it|\n",
      "| Memoirs of a Geisha|really liked it|\n",
      "+--------------------+---------------+\n",
      "only showing top 15 rows\n",
      "\n"
     ]
    }
   ],
   "source": [
    "dataframe.select(\"Name\",\"Rating\")\\\n",
    " .orderBy(desc(col(\"Rating\")))\\\n",
    " .show(15, True)"
   ]
  }
 ],
 "metadata": {
  "kernelspec": {
   "display_name": "Python 3 (ipykernel)",
   "language": "python",
   "name": "python3"
  },
  "language_info": {
   "codemirror_mode": {
    "name": "ipython",
    "version": 3
   },
   "file_extension": ".py",
   "mimetype": "text/x-python",
   "name": "python",
   "nbconvert_exporter": "python",
   "pygments_lexer": "ipython3",
   "version": "3.9.10"
  }
 },
 "nbformat": 4,
 "nbformat_minor": 5
}
